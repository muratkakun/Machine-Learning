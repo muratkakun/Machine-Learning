{
  "nbformat": 4,
  "nbformat_minor": 0,
  "metadata": {
    "colab": {
      "name": "HW4-5(Deep Learning).ipynb",
      "provenance": [],
      "collapsed_sections": [],
      "toc_visible": true,
      "include_colab_link": true
    },
    "kernelspec": {
      "name": "python3",
      "display_name": "Python 3"
    }
  },
  "cells": [
    {
      "cell_type": "markdown",
      "metadata": {
        "id": "view-in-github",
        "colab_type": "text"
      },
      "source": [
        "<a href=\"https://colab.research.google.com/github/muratkakun/Machine-Learning/blob/master/HW4_5(Deep_Learning).ipynb\" target=\"_parent\"><img src=\"https://colab.research.google.com/assets/colab-badge.svg\" alt=\"Open In Colab\"/></a>"
      ]
    },
    {
      "cell_type": "markdown",
      "metadata": {
        "id": "5pCVmkCzCtYW",
        "colab_type": "text"
      },
      "source": [
        "# HW4-5"
      ]
    },
    {
      "cell_type": "markdown",
      "metadata": {
        "id": "ZHYGzIkCyJVD",
        "colab_type": "text"
      },
      "source": [
        "### Q- 1 ) Load and plot few example in MNIST-CLUTTERED. (It is MNIST on cluttered bg)"
      ]
    },
    {
      "cell_type": "code",
      "metadata": {
        "id": "YLAw5sbhCz7K",
        "colab_type": "code",
        "colab": {}
      },
      "source": [
        "import numpy as np\n",
        "b = np.load('mnist_cluttered_60x60_6distortions_test_only.npz', 'r')\n"
      ],
      "execution_count": 0,
      "outputs": []
    },
    {
      "cell_type": "code",
      "metadata": {
        "id": "2Fl8H-YLJLru",
        "colab_type": "code",
        "colab": {
          "base_uri": "https://localhost:8080/",
          "height": 54
        },
        "outputId": "a840987c-a5ae-44bf-efb2-df54d03481d8"
      },
      "source": [
        "from google.colab import drive\n",
        "drive.mount('/content/drive')"
      ],
      "execution_count": 5,
      "outputs": [
        {
          "output_type": "stream",
          "text": [
            "Drive already mounted at /content/drive; to attempt to forcibly remount, call drive.mount(\"/content/drive\", force_remount=True).\n"
          ],
          "name": "stdout"
        }
      ]
    },
    {
      "cell_type": "code",
      "metadata": {
        "id": "AGtlRzYqFUKD",
        "colab_type": "code",
        "outputId": "08d6e9c6-1906-4cb3-b4ae-b0faae511c2e",
        "colab": {
          "base_uri": "https://localhost:8080/",
          "height": 85
        }
      },
      "source": [
        "print(b.files)\n",
        "arr = b['y']\n",
        "print(arr.shape)\n",
        "print(arr)\n",
        "print(arr[arr==1])\n"
      ],
      "execution_count": 6,
      "outputs": [
        {
          "output_type": "stream",
          "text": [
            "['x', 'y']\n",
            "(10000,)\n",
            "[3 9 4 ... 6 3 5]\n",
            "[1 1 1 ... 1 1 1]\n"
          ],
          "name": "stdout"
        }
      ]
    },
    {
      "cell_type": "markdown",
      "metadata": {
        "id": "F0CKLXNHyBcR",
        "colab_type": "text"
      },
      "source": [
        "Divide data into train and test splits. Make sure all labels are represented."
      ]
    },
    {
      "cell_type": "code",
      "metadata": {
        "id": "CkGN2kTT_FLW",
        "colab_type": "code",
        "outputId": "fb7acd08-10bf-4460-e8f1-c3769b492702",
        "colab": {
          "base_uri": "https://localhost:8080/",
          "height": 765
        }
      },
      "source": [
        "import tensorflow as tf\n",
        "x_all = b['x']\n",
        "y_all = b['y']\n",
        "x_train = x_all[0:500:1]\n",
        "y_train = y_all[0:500:1]\n",
        "x_test = x_all[500:1000:1]\n",
        "y_test = y_all[500:1000:1]\n",
        "\n",
        "print(x_train)\n",
        "print(y_train)\n",
        "\n",
        "print(x_test)\n",
        "print(y_test)\n",
        "\n",
        "print(x_train.shape)\n",
        "print(x_test.shape)\n",
        "\n",
        "\n"
      ],
      "execution_count": 8,
      "outputs": [
        {
          "output_type": "stream",
          "text": [
            "[[0. 0. 0. ... 0. 0. 0.]\n",
            " [0. 0. 0. ... 0. 0. 0.]\n",
            " [0. 0. 0. ... 0. 0. 0.]\n",
            " ...\n",
            " [0. 0. 0. ... 0. 0. 0.]\n",
            " [0. 0. 0. ... 0. 0. 0.]\n",
            " [0. 0. 0. ... 0. 0. 0.]]\n",
            "[3 9 4 0 6 1 8 6 1 7 9 9 8 6 3 6 3 4 7 4 4 0 5 9 0 5 5 8 5 2 1 5 4 1 9 1 3\n",
            " 2 0 0 3 2 0 2 9 9 7 1 6 5 8 8 1 2 4 1 8 2 8 1 9 5 9 8 8 1 5 2 9 0 5 6 6 9\n",
            " 6 1 3 0 1 1 5 1 2 7 1 9 1 7 2 7 6 0 5 7 7 4 4 4 1 1 6 6 1 3 7 8 6 9 8 5 5\n",
            " 8 1 5 8 5 9 2 0 5 4 4 7 9 2 8 8 8 5 4 1 2 5 6 5 9 3 4 8 2 7 4 3 5 9 0 7 3\n",
            " 1 9 5 8 7 6 9 3 0 0 3 2 4 6 5 5 6 8 7 7 1 0 5 0 8 3 1 1 6 2 0 7 0 1 3 5 0\n",
            " 8 9 1 4 1 1 5 7 9 4 5 9 9 8 9 6 1 4 6 0 0 4 6 8 1 8 1 6 7 5 2 2 2 3 7 1 4\n",
            " 0 9 9 2 0 4 6 9 1 2 3 6 6 1 2 6 5 9 3 6 0 2 3 6 8 9 2 6 4 8 6 1 1 0 6 3 7\n",
            " 8 2 0 4 8 9 4 5 6 7 4 3 1 5 7 4 1 5 1 4 4 0 8 6 3 7 8 7 2 0 1 4 1 6 0 0 7\n",
            " 8 7 1 2 3 7 6 8 0 8 4 1 5 0 7 8 4 3 6 1 2 1 3 6 1 9 2 4 9 0 3 6 9 3 7 6 8\n",
            " 1 6 0 3 0 1 7 6 1 3 9 0 1 0 9 1 3 2 3 9 9 2 0 6 6 5 9 2 4 7 4 6 4 3 6 5 8\n",
            " 6 9 3 7 9 2 0 2 8 4 1 7 9 5 1 2 8 2 9 2 8 3 0 9 3 0 2 5 7 6 4 8 7 9 4 0 7\n",
            " 6 2 0 5 3 5 9 4 4 0 5 4 8 4 3 6 5 6 7 7 4 9 8 6 5 1 4 9 7 3 9 9 0 3 7 7 8\n",
            " 5 7 8 1 8 0 1 7 0 4 7 0 7 0 3 2 7 0 6 1 3 8 9 7 8 4 4 8 0 7 4 2 3 0 1 2 8\n",
            " 1 8 6 2 7 1 6 7 4 8 2 7 9 7 4 7 7 5 4]\n",
            "[[0. 0. 0. ... 0. 0. 0.]\n",
            " [0. 0. 0. ... 0. 0. 0.]\n",
            " [0. 0. 0. ... 0. 0. 0.]\n",
            " ...\n",
            " [0. 0. 0. ... 0. 0. 0.]\n",
            " [0. 0. 0. ... 0. 0. 0.]\n",
            " [0. 0. 0. ... 0. 0. 0.]]\n",
            "[7 7 4 7 1 1 9 0 9 0 9 6 0 7 3 4 1 9 7 5 7 1 8 3 8 6 7 0 2 5 5 9 3 8 9 4 3\n",
            " 2 4 4 0 5 5 7 0 0 3 9 7 9 6 7 4 7 7 7 7 1 5 3 0 2 4 3 7 2 7 0 4 0 1 3 8 0\n",
            " 4 8 9 5 0 5 7 6 5 6 3 3 1 1 3 6 4 0 4 5 1 8 4 3 8 2 2 2 3 0 3 7 3 2 8 3 4\n",
            " 5 1 6 6 9 0 5 9 8 8 3 9 7 3 5 7 6 6 5 4 5 6 4 7 1 8 4 8 8 5 0 8 4 9 3 6 2\n",
            " 1 8 1 2 8 5 5 8 3 6 0 0 3 0 6 1 1 2 3 5 2 3 7 9 0 8 7 0 9 7 1 0 3 9 9 2 7\n",
            " 9 8 5 7 3 5 6 1 8 9 4 2 7 7 2 3 4 1 3 3 4 6 6 8 0 6 0 3 9 0 1 4 2 8 2 1 9\n",
            " 7 8 3 8 1 1 1 2 7 8 4 9 0 1 1 5 2 5 5 4 2 0 2 6 7 5 5 7 4 0 9 3 4 0 8 0 9\n",
            " 2 5 0 6 8 2 9 4 1 2 3 1 8 9 2 1 6 2 4 4 4 6 5 4 0 8 4 3 9 9 8 1 6 9 1 7 6\n",
            " 7 8 5 7 8 1 7 1 0 4 2 1 3 2 6 5 4 0 1 1 2 7 7 0 6 9 7 1 2 9 5 6 8 1 0 8 6\n",
            " 9 2 2 5 2 9 0 8 8 5 7 5 4 6 9 1 7 3 3 2 4 0 9 8 6 3 0 4 8 2 1 9 4 5 7 2 1\n",
            " 0 3 4 3 3 9 0 7 6 0 2 6 5 0 5 3 1 6 7 0 1 1 0 0 0 2 6 2 3 4 6 1 7 7 7 1 1\n",
            " 3 5 2 4 6 8 0 1 4 4 2 0 1 8 9 2 8 1 9 6 2 8 8 6 3 9 9 3 7 1 1 6 5 6 7 0 1\n",
            " 4 2 5 8 8 4 2 7 8 4 5 7 4 0 3 4 5 7 8 3 9 3 6 0 1 3 8 4 5 1 3 5 2 9 4 4 6\n",
            " 8 3 6 4 3 5 4 4 2 5 7 2 9 1 6 4 5 3 1]\n",
            "(500, 3600)\n",
            "(500, 3600)\n"
          ],
          "name": "stdout"
        }
      ]
    },
    {
      "cell_type": "markdown",
      "metadata": {
        "id": "ktBmFVSkyZ13",
        "colab_type": "text"
      },
      "source": [
        "### Q-2) Create a 2-hidden layer network. (Input-800-800-Output)"
      ]
    },
    {
      "cell_type": "code",
      "metadata": {
        "id": "vQBXSTckNjX-",
        "colab_type": "code",
        "outputId": "ce4e0311-eb0f-4208-a368-ef57a0552e7e",
        "colab": {
          "base_uri": "https://localhost:8080/",
          "height": 513
        }
      },
      "source": [
        "from sklearn.metrics import accuracy_score\n",
        "feature_columns = tf.contrib.learn.infer_real_valued_columns_from_input(x_train)\n"
      ],
      "execution_count": 32,
      "outputs": [
        {
          "output_type": "stream",
          "text": [
            "INFO:tensorflow:Create CheckpointSaverHook.\n",
            "INFO:tensorflow:Graph was finalized.\n",
            "INFO:tensorflow:Restoring parameters from /tmp/tmptdh700c0/model.ckpt-2000\n",
            "INFO:tensorflow:Running local_init_op.\n",
            "INFO:tensorflow:Done running local_init_op.\n",
            "INFO:tensorflow:Saving checkpoints for 2000 into /tmp/tmptdh700c0/model.ckpt.\n",
            "INFO:tensorflow:loss = 0.0006761238, step = 2001\n",
            "INFO:tensorflow:global_step/sec: 29.8383\n",
            "INFO:tensorflow:loss = 0.0006076277, step = 2101 (3.354 sec)\n",
            "INFO:tensorflow:global_step/sec: 31.0325\n",
            "INFO:tensorflow:loss = 0.0005112568, step = 2201 (3.222 sec)\n",
            "INFO:tensorflow:global_step/sec: 30.7067\n",
            "INFO:tensorflow:loss = 0.0005468914, step = 2301 (3.256 sec)\n",
            "INFO:tensorflow:global_step/sec: 30.4122\n",
            "INFO:tensorflow:loss = 0.00051104923, step = 2401 (3.289 sec)\n",
            "INFO:tensorflow:global_step/sec: 30.1975\n",
            "INFO:tensorflow:loss = 0.0005074277, step = 2501 (3.313 sec)\n",
            "INFO:tensorflow:global_step/sec: 31.8116\n",
            "INFO:tensorflow:loss = 0.00046980698, step = 2601 (3.141 sec)\n",
            "INFO:tensorflow:global_step/sec: 31.7817\n",
            "INFO:tensorflow:loss = 0.00043851678, step = 2701 (3.151 sec)\n",
            "INFO:tensorflow:global_step/sec: 30.0894\n",
            "INFO:tensorflow:loss = 0.0004021642, step = 2801 (3.323 sec)\n",
            "INFO:tensorflow:global_step/sec: 30.7676\n",
            "INFO:tensorflow:loss = 0.00042024205, step = 2901 (3.248 sec)\n",
            "INFO:tensorflow:Saving checkpoints for 3000 into /tmp/tmptdh700c0/model.ckpt.\n",
            "INFO:tensorflow:Loss for final step: 0.00041481317.\n"
          ],
          "name": "stdout"
        },
        {
          "output_type": "execute_result",
          "data": {
            "text/plain": [
              "DNNClassifier(params={'head': <tensorflow.contrib.learn.python.learn.estimators.head._MultiClassHead object at 0x7f4fad93cf60>, 'hidden_units': [800, 800], 'feature_columns': (_RealValuedColumn(column_name='', dimension=3600, default_value=None, dtype=tf.float32, normalizer=None),), 'optimizer': None, 'activation_fn': <function elu at 0x7f4fc247c7b8>, 'dropout': None, 'gradient_clip_norm': None, 'embedding_lr_multipliers': None, 'input_layer_min_slice_size': None})"
            ]
          },
          "metadata": {
            "tags": []
          },
          "execution_count": 32
        }
      ]
    },
    {
      "cell_type": "markdown",
      "metadata": {
        "id": "5bpTuhCmynda",
        "colab_type": "text"
      },
      "source": [
        "###Q-3) Train and test the performance.  (The accuracy can be 60% 70%). \n",
        "\n",
        "10-20 epochs is OK."
      ]
    },
    {
      "cell_type": "code",
      "metadata": {
        "id": "a0BtiYDxM4ym",
        "colab_type": "code",
        "outputId": "7e8a50d6-e5c6-4c69-e0b8-0dd908e53c64",
        "colab": {
          "base_uri": "https://localhost:8080/",
          "height": 680
        }
      },
      "source": [
        "dnn_clf = tf.contrib.learn.DNNClassifier(hidden_units=[800, 800], n_classes=10, feature_columns=feature_columns,activation_fn=tf.nn.elu)\n",
        "dnn_clf.fit(x=x_train, y=y_train, batch_size=50, steps=1000)\n",
        "y_pred = list(dnn_clf.predict(x_test))\n",
        "#print(accuracy_score(y_test, y_pred))\n",
        "print(\"----------ELU----------------\")\n",
        "dnn_clf.evaluate(x_test, y_test)\n"
      ],
      "execution_count": 34,
      "outputs": [
        {
          "output_type": "stream",
          "text": [
            "INFO:tensorflow:Create CheckpointSaverHook.\n",
            "INFO:tensorflow:Graph was finalized.\n",
            "INFO:tensorflow:Running local_init_op.\n",
            "INFO:tensorflow:Done running local_init_op.\n",
            "INFO:tensorflow:Saving checkpoints for 0 into /tmp/tmpmkhgjg32/model.ckpt.\n",
            "INFO:tensorflow:loss = 2.3426106, step = 1\n",
            "INFO:tensorflow:global_step/sec: 31.6825\n",
            "INFO:tensorflow:loss = 0.04528738, step = 101 (3.158 sec)\n",
            "INFO:tensorflow:global_step/sec: 30.7784\n",
            "INFO:tensorflow:loss = 0.011730067, step = 201 (3.249 sec)\n",
            "INFO:tensorflow:global_step/sec: 30.015\n",
            "INFO:tensorflow:loss = 0.0073736263, step = 301 (3.332 sec)\n",
            "INFO:tensorflow:global_step/sec: 31.5871\n",
            "INFO:tensorflow:loss = 0.004838148, step = 401 (3.172 sec)\n",
            "INFO:tensorflow:global_step/sec: 31.7808\n",
            "INFO:tensorflow:loss = 0.0037765347, step = 501 (3.145 sec)\n",
            "INFO:tensorflow:global_step/sec: 32.0325\n",
            "INFO:tensorflow:loss = 0.002866366, step = 601 (3.117 sec)\n",
            "INFO:tensorflow:global_step/sec: 31.2114\n",
            "INFO:tensorflow:loss = 0.002308938, step = 701 (3.209 sec)\n",
            "INFO:tensorflow:global_step/sec: 31.4926\n",
            "INFO:tensorflow:loss = 0.0018632831, step = 801 (3.172 sec)\n",
            "INFO:tensorflow:global_step/sec: 31.43\n",
            "INFO:tensorflow:loss = 0.001751957, step = 901 (3.181 sec)\n",
            "INFO:tensorflow:Saving checkpoints for 1000 into /tmp/tmpmkhgjg32/model.ckpt.\n",
            "INFO:tensorflow:Loss for final step: 0.0016043948.\n",
            "INFO:tensorflow:Graph was finalized.\n",
            "INFO:tensorflow:Restoring parameters from /tmp/tmpmkhgjg32/model.ckpt-1000\n",
            "INFO:tensorflow:Running local_init_op.\n",
            "INFO:tensorflow:Done running local_init_op.\n",
            "----------ELU----------------\n",
            "INFO:tensorflow:Starting evaluation at 2019-12-01T20:22:29Z\n",
            "INFO:tensorflow:Graph was finalized.\n",
            "INFO:tensorflow:Restoring parameters from /tmp/tmpmkhgjg32/model.ckpt-1000\n",
            "INFO:tensorflow:Running local_init_op.\n",
            "INFO:tensorflow:Done running local_init_op.\n",
            "INFO:tensorflow:Finished evaluation at 2019-12-01-20:22:29\n",
            "INFO:tensorflow:Saving dict for global step 1000: accuracy = 0.126, global_step = 1000, loss = 5.435353\n"
          ],
          "name": "stdout"
        },
        {
          "output_type": "execute_result",
          "data": {
            "text/plain": [
              "{'accuracy': 0.126, 'global_step': 1000, 'loss': 5.435353}"
            ]
          },
          "metadata": {
            "tags": []
          },
          "execution_count": 34
        }
      ]
    },
    {
      "cell_type": "markdown",
      "metadata": {
        "id": "ugoJwGtZy_In",
        "colab_type": "text"
      },
      "source": [
        "### Q-4) Compare activation functions. Plot validation accuracy for RELU, ELU, TANH, SELU. Note that each has its own initialization system. For RELU use he_normal or uniform, elu use he_normal, tanh use glorot_uniform, selu use lecun_normal\n",
        "\n",
        "Comment on the results."
      ]
    },
    {
      "cell_type": "code",
      "metadata": {
        "id": "iT9sbQl3zIjj",
        "colab_type": "code",
        "colab": {
          "base_uri": "https://localhost:8080/",
          "height": 802
        },
        "outputId": "8c430185-817c-4b2f-da43-2793c2483728"
      },
      "source": [
        "dnn_clf = tf.contrib.learn.DNNClassifier(hidden_units=[800, 800], n_classes=10, feature_columns=feature_columns,activation_fn=tf.nn.relu)\n",
        "dnn_clf.fit(x=x_train, y=y_train, batch_size=50, steps=1000)\n",
        "y_pred = list(dnn_clf.predict(x_test))\n",
        "#print(accuracy_score(y_test, y_pred))\n",
        "print(\"----------RELU----------------\")\n",
        "dnn_clf.evaluate(x_test, y_test)"
      ],
      "execution_count": 37,
      "outputs": [
        {
          "output_type": "stream",
          "text": [
            "INFO:tensorflow:Using default config.\n",
            "WARNING:tensorflow:Using temporary folder as model directory: /tmp/tmpcjbl3ifk\n",
            "INFO:tensorflow:Using config: {'_task_type': None, '_task_id': 0, '_cluster_spec': <tensorflow.python.training.server_lib.ClusterSpec object at 0x7f4fadb31b38>, '_master': '', '_num_ps_replicas': 0, '_num_worker_replicas': 0, '_environment': 'local', '_is_chief': True, '_evaluation_master': '', '_train_distribute': None, '_eval_distribute': None, '_experimental_max_worker_delay_secs': None, '_device_fn': None, '_tf_config': gpu_options {\n",
            "  per_process_gpu_memory_fraction: 1.0\n",
            "}\n",
            ", '_tf_random_seed': None, '_save_summary_steps': 100, '_save_checkpoints_secs': 600, '_log_step_count_steps': 100, '_protocol': None, '_session_config': None, '_save_checkpoints_steps': None, '_keep_checkpoint_max': 5, '_keep_checkpoint_every_n_hours': 10000, '_model_dir': '/tmp/tmpcjbl3ifk', '_session_creation_timeout_secs': 7200}\n",
            "INFO:tensorflow:Create CheckpointSaverHook.\n",
            "INFO:tensorflow:Graph was finalized.\n",
            "INFO:tensorflow:Running local_init_op.\n",
            "INFO:tensorflow:Done running local_init_op.\n",
            "INFO:tensorflow:Saving checkpoints for 0 into /tmp/tmpcjbl3ifk/model.ckpt.\n",
            "INFO:tensorflow:loss = 2.328358, step = 1\n",
            "INFO:tensorflow:global_step/sec: 29.9124\n",
            "INFO:tensorflow:loss = 0.08761106, step = 101 (3.345 sec)\n",
            "INFO:tensorflow:global_step/sec: 31.6362\n",
            "INFO:tensorflow:loss = 0.014941858, step = 201 (3.160 sec)\n",
            "INFO:tensorflow:global_step/sec: 32.6582\n",
            "INFO:tensorflow:loss = 0.008951763, step = 301 (3.064 sec)\n",
            "INFO:tensorflow:global_step/sec: 31.8029\n",
            "INFO:tensorflow:loss = 0.005221588, step = 401 (3.144 sec)\n",
            "INFO:tensorflow:global_step/sec: 31.3518\n",
            "INFO:tensorflow:loss = 0.003962221, step = 501 (3.189 sec)\n",
            "INFO:tensorflow:global_step/sec: 30.9795\n",
            "INFO:tensorflow:loss = 0.003100869, step = 601 (3.228 sec)\n",
            "INFO:tensorflow:global_step/sec: 32.2046\n",
            "INFO:tensorflow:loss = 0.0024856743, step = 701 (3.106 sec)\n",
            "INFO:tensorflow:global_step/sec: 31.3412\n",
            "INFO:tensorflow:loss = 0.0019689726, step = 801 (3.190 sec)\n",
            "INFO:tensorflow:global_step/sec: 31.2337\n",
            "INFO:tensorflow:loss = 0.0019183563, step = 901 (3.203 sec)\n",
            "INFO:tensorflow:Saving checkpoints for 1000 into /tmp/tmpcjbl3ifk/model.ckpt.\n",
            "INFO:tensorflow:Loss for final step: 0.0016408989.\n",
            "INFO:tensorflow:Graph was finalized.\n",
            "INFO:tensorflow:Restoring parameters from /tmp/tmpcjbl3ifk/model.ckpt-1000\n",
            "INFO:tensorflow:Running local_init_op.\n",
            "INFO:tensorflow:Done running local_init_op.\n",
            "----------RELU----------------\n",
            "INFO:tensorflow:Starting evaluation at 2019-12-01T20:24:26Z\n",
            "INFO:tensorflow:Graph was finalized.\n",
            "INFO:tensorflow:Restoring parameters from /tmp/tmpcjbl3ifk/model.ckpt-1000\n",
            "INFO:tensorflow:Running local_init_op.\n",
            "INFO:tensorflow:Done running local_init_op.\n",
            "INFO:tensorflow:Finished evaluation at 2019-12-01-20:24:26\n",
            "INFO:tensorflow:Saving dict for global step 1000: accuracy = 0.126, global_step = 1000, loss = 3.9346783\n"
          ],
          "name": "stdout"
        },
        {
          "output_type": "execute_result",
          "data": {
            "text/plain": [
              "{'accuracy': 0.126, 'global_step': 1000, 'loss': 3.9346783}"
            ]
          },
          "metadata": {
            "tags": []
          },
          "execution_count": 37
        }
      ]
    },
    {
      "cell_type": "code",
      "metadata": {
        "id": "46hxDjpLVNeB",
        "colab_type": "code",
        "colab": {
          "base_uri": "https://localhost:8080/",
          "height": 802
        },
        "outputId": "68bd24d0-373c-4bf3-989d-b22af8627ef6"
      },
      "source": [
        "dnn_clf = tf.contrib.learn.DNNClassifier(hidden_units=[800, 800], n_classes=10, feature_columns=feature_columns,activation_fn=tf.nn.selu)\n",
        "dnn_clf.fit(x=x_train, y=y_train, batch_size=50, steps=1000)\n",
        "y_pred = list(dnn_clf.predict(x_test))\n",
        "#print(accuracy_score(y_test, y_pred))\n",
        "print(\"----------SELU----------------\")\n",
        "dnn_clf.evaluate(x_test, y_test)"
      ],
      "execution_count": 39,
      "outputs": [
        {
          "output_type": "stream",
          "text": [
            "INFO:tensorflow:Using default config.\n",
            "WARNING:tensorflow:Using temporary folder as model directory: /tmp/tmp476e1agh\n",
            "INFO:tensorflow:Using config: {'_task_type': None, '_task_id': 0, '_cluster_spec': <tensorflow.python.training.server_lib.ClusterSpec object at 0x7f4fb3c1f278>, '_master': '', '_num_ps_replicas': 0, '_num_worker_replicas': 0, '_environment': 'local', '_is_chief': True, '_evaluation_master': '', '_train_distribute': None, '_eval_distribute': None, '_experimental_max_worker_delay_secs': None, '_device_fn': None, '_tf_config': gpu_options {\n",
            "  per_process_gpu_memory_fraction: 1.0\n",
            "}\n",
            ", '_tf_random_seed': None, '_save_summary_steps': 100, '_save_checkpoints_secs': 600, '_log_step_count_steps': 100, '_protocol': None, '_session_config': None, '_save_checkpoints_steps': None, '_keep_checkpoint_max': 5, '_keep_checkpoint_every_n_hours': 10000, '_model_dir': '/tmp/tmp476e1agh', '_session_creation_timeout_secs': 7200}\n",
            "INFO:tensorflow:Create CheckpointSaverHook.\n",
            "INFO:tensorflow:Graph was finalized.\n",
            "INFO:tensorflow:Running local_init_op.\n",
            "INFO:tensorflow:Done running local_init_op.\n",
            "INFO:tensorflow:Saving checkpoints for 0 into /tmp/tmp476e1agh/model.ckpt.\n",
            "INFO:tensorflow:loss = 2.4013789, step = 1\n",
            "INFO:tensorflow:global_step/sec: 30.4057\n",
            "INFO:tensorflow:loss = 0.017122304, step = 101 (3.291 sec)\n",
            "INFO:tensorflow:global_step/sec: 30.0373\n",
            "INFO:tensorflow:loss = 0.0059869136, step = 201 (3.330 sec)\n",
            "INFO:tensorflow:global_step/sec: 31.9386\n",
            "INFO:tensorflow:loss = 0.0041688513, step = 301 (3.130 sec)\n",
            "INFO:tensorflow:global_step/sec: 31.04\n",
            "INFO:tensorflow:loss = 0.002841633, step = 401 (3.223 sec)\n",
            "INFO:tensorflow:global_step/sec: 29.626\n",
            "INFO:tensorflow:loss = 0.0022844388, step = 501 (3.374 sec)\n",
            "INFO:tensorflow:global_step/sec: 30.3158\n",
            "INFO:tensorflow:loss = 0.0017795367, step = 601 (3.299 sec)\n",
            "INFO:tensorflow:global_step/sec: 29.6592\n",
            "INFO:tensorflow:loss = 0.0014445831, step = 701 (3.371 sec)\n",
            "INFO:tensorflow:global_step/sec: 30.1909\n",
            "INFO:tensorflow:loss = 0.001172975, step = 801 (3.313 sec)\n",
            "INFO:tensorflow:global_step/sec: 31.4987\n",
            "INFO:tensorflow:loss = 0.0011333686, step = 901 (3.174 sec)\n",
            "INFO:tensorflow:Saving checkpoints for 1000 into /tmp/tmp476e1agh/model.ckpt.\n",
            "INFO:tensorflow:Loss for final step: 0.0010196829.\n",
            "INFO:tensorflow:Graph was finalized.\n",
            "INFO:tensorflow:Restoring parameters from /tmp/tmp476e1agh/model.ckpt-1000\n",
            "INFO:tensorflow:Running local_init_op.\n",
            "INFO:tensorflow:Done running local_init_op.\n",
            "----------SELU----------------\n",
            "INFO:tensorflow:Starting evaluation at 2019-12-01T20:25:59Z\n",
            "INFO:tensorflow:Graph was finalized.\n",
            "INFO:tensorflow:Restoring parameters from /tmp/tmp476e1agh/model.ckpt-1000\n",
            "INFO:tensorflow:Running local_init_op.\n",
            "INFO:tensorflow:Done running local_init_op.\n",
            "INFO:tensorflow:Finished evaluation at 2019-12-01-20:26:00\n",
            "INFO:tensorflow:Saving dict for global step 1000: accuracy = 0.114, global_step = 1000, loss = 5.5946264\n"
          ],
          "name": "stdout"
        },
        {
          "output_type": "execute_result",
          "data": {
            "text/plain": [
              "{'accuracy': 0.114, 'global_step': 1000, 'loss': 5.5946264}"
            ]
          },
          "metadata": {
            "tags": []
          },
          "execution_count": 39
        }
      ]
    },
    {
      "cell_type": "code",
      "metadata": {
        "id": "qNaUl-hhVSqd",
        "colab_type": "code",
        "colab": {
          "base_uri": "https://localhost:8080/",
          "height": 802
        },
        "outputId": "98b10f44-e467-4237-aaeb-2a9a5f815d55"
      },
      "source": [
        "dnn_clf = tf.contrib.learn.DNNClassifier(hidden_units=[800, 800], n_classes=10, feature_columns=feature_columns,activation_fn=tf.nn.tanh)\n",
        "dnn_clf.fit(x=x_train, y=y_train, batch_size=50, steps=1000)\n",
        "y_pred = list(dnn_clf.predict(x_test))\n",
        "#print(accuracy_score(y_test, y_pred))\n",
        "print(\"----------TANH----------------\")\n",
        "dnn_clf.evaluate(x_test, y_test)"
      ],
      "execution_count": 41,
      "outputs": [
        {
          "output_type": "stream",
          "text": [
            "INFO:tensorflow:Using default config.\n",
            "WARNING:tensorflow:Using temporary folder as model directory: /tmp/tmpf35gycm7\n",
            "INFO:tensorflow:Using config: {'_task_type': None, '_task_id': 0, '_cluster_spec': <tensorflow.python.training.server_lib.ClusterSpec object at 0x7f4fad63b390>, '_master': '', '_num_ps_replicas': 0, '_num_worker_replicas': 0, '_environment': 'local', '_is_chief': True, '_evaluation_master': '', '_train_distribute': None, '_eval_distribute': None, '_experimental_max_worker_delay_secs': None, '_device_fn': None, '_tf_config': gpu_options {\n",
            "  per_process_gpu_memory_fraction: 1.0\n",
            "}\n",
            ", '_tf_random_seed': None, '_save_summary_steps': 100, '_save_checkpoints_secs': 600, '_log_step_count_steps': 100, '_protocol': None, '_session_config': None, '_save_checkpoints_steps': None, '_keep_checkpoint_max': 5, '_keep_checkpoint_every_n_hours': 10000, '_model_dir': '/tmp/tmpf35gycm7', '_session_creation_timeout_secs': 7200}\n",
            "INFO:tensorflow:Create CheckpointSaverHook.\n",
            "INFO:tensorflow:Graph was finalized.\n",
            "INFO:tensorflow:Running local_init_op.\n",
            "INFO:tensorflow:Done running local_init_op.\n",
            "INFO:tensorflow:Saving checkpoints for 0 into /tmp/tmpf35gycm7/model.ckpt.\n",
            "INFO:tensorflow:loss = 2.3555722, step = 1\n",
            "INFO:tensorflow:global_step/sec: 31.2997\n",
            "INFO:tensorflow:loss = 0.044642724, step = 101 (3.197 sec)\n",
            "INFO:tensorflow:global_step/sec: 31.6217\n",
            "INFO:tensorflow:loss = 0.012155113, step = 201 (3.164 sec)\n",
            "INFO:tensorflow:global_step/sec: 31.5235\n",
            "INFO:tensorflow:loss = 0.007747446, step = 301 (3.170 sec)\n",
            "INFO:tensorflow:global_step/sec: 31.1338\n",
            "INFO:tensorflow:loss = 0.0050898413, step = 401 (3.212 sec)\n",
            "INFO:tensorflow:global_step/sec: 30.4457\n",
            "INFO:tensorflow:loss = 0.0039568148, step = 501 (3.284 sec)\n",
            "INFO:tensorflow:global_step/sec: 32.6118\n",
            "INFO:tensorflow:loss = 0.0030418595, step = 601 (3.067 sec)\n",
            "INFO:tensorflow:global_step/sec: 31.7465\n",
            "INFO:tensorflow:loss = 0.0024109574, step = 701 (3.154 sec)\n",
            "INFO:tensorflow:global_step/sec: 32.3266\n",
            "INFO:tensorflow:loss = 0.0019847143, step = 801 (3.089 sec)\n",
            "INFO:tensorflow:global_step/sec: 32.6499\n",
            "INFO:tensorflow:loss = 0.0018508438, step = 901 (3.063 sec)\n",
            "INFO:tensorflow:Saving checkpoints for 1000 into /tmp/tmpf35gycm7/model.ckpt.\n",
            "INFO:tensorflow:Loss for final step: 0.001721106.\n",
            "INFO:tensorflow:Graph was finalized.\n",
            "INFO:tensorflow:Restoring parameters from /tmp/tmpf35gycm7/model.ckpt-1000\n",
            "INFO:tensorflow:Running local_init_op.\n",
            "INFO:tensorflow:Done running local_init_op.\n",
            "----------TANH----------------\n",
            "INFO:tensorflow:Starting evaluation at 2019-12-01T20:26:56Z\n",
            "INFO:tensorflow:Graph was finalized.\n",
            "INFO:tensorflow:Restoring parameters from /tmp/tmpf35gycm7/model.ckpt-1000\n",
            "INFO:tensorflow:Running local_init_op.\n",
            "INFO:tensorflow:Done running local_init_op.\n",
            "INFO:tensorflow:Finished evaluation at 2019-12-01-20:26:57\n",
            "INFO:tensorflow:Saving dict for global step 1000: accuracy = 0.122, global_step = 1000, loss = 5.413365\n"
          ],
          "name": "stdout"
        },
        {
          "output_type": "execute_result",
          "data": {
            "text/plain": [
              "{'accuracy': 0.122, 'global_step': 1000, 'loss': 5.413365}"
            ]
          },
          "metadata": {
            "tags": []
          },
          "execution_count": 41
        }
      ]
    },
    {
      "cell_type": "markdown",
      "metadata": {
        "id": "8woM43s_9KOw",
        "colab_type": "text"
      },
      "source": [
        "### 5) For the best and second performing activation repeat all the tests with  SGD, SGD+momentum, SGD+Nesterov, RMSRPOB Adam\n",
        "\n",
        "Comment on the results\n"
      ]
    },
    {
      "cell_type": "code",
      "metadata": {
        "id": "Z8ED2Dno9ec2",
        "colab_type": "code",
        "colab": {}
      },
      "source": [
        ""
      ],
      "execution_count": 0,
      "outputs": []
    },
    {
      "cell_type": "markdown",
      "metadata": {
        "id": "uTk7666m9glk",
        "colab_type": "text"
      },
      "source": [
        "### 6) With the best performing model use Batchnorm and test again\n",
        "\n",
        "Comment on the result"
      ]
    },
    {
      "cell_type": "code",
      "metadata": {
        "id": "ITynDHCY9qtg",
        "colab_type": "code",
        "colab": {}
      },
      "source": [
        ""
      ],
      "execution_count": 0,
      "outputs": []
    },
    {
      "cell_type": "markdown",
      "metadata": {
        "id": "ph2Yi1bK9rsl",
        "colab_type": "text"
      },
      "source": [
        "### 7) With the best performing add Dropout between layers and test again\n",
        "\n",
        "Comment on the result"
      ]
    },
    {
      "cell_type": "code",
      "metadata": {
        "id": "fVt4KRNl9wPs",
        "colab_type": "code",
        "colab": {}
      },
      "source": [
        ""
      ],
      "execution_count": 0,
      "outputs": []
    },
    {
      "cell_type": "markdown",
      "metadata": {
        "id": "NMC1OyM39wuK",
        "colab_type": "text"
      },
      "source": [
        "### 8) With the Dropout version, apply MonteCarlo Dropout.\n",
        "\n",
        "Comment on the result."
      ]
    },
    {
      "cell_type": "code",
      "metadata": {
        "id": "l0V5jug-91LD",
        "colab_type": "code",
        "colab": {}
      },
      "source": [
        ""
      ],
      "execution_count": 0,
      "outputs": []
    },
    {
      "cell_type": "markdown",
      "metadata": {
        "id": "2jwr6nF291VP",
        "colab_type": "text"
      },
      "source": [
        "### 9) Compare LR rate scheduling mehtods.   \n",
        "## a) fix learning rate, \n",
        "## b) decaying learning rate (choose one)\n",
        "## c) 1cycle schedule choose your n0, n1"
      ]
    }
  ]
}