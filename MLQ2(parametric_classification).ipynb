{
  "nbformat": 4,
  "nbformat_minor": 0,
  "metadata": {
    "colab": {
      "name": "MLQ2(parametric classification).ipynb",
      "provenance": [],
      "collapsed_sections": [],
      "include_colab_link": true
    },
    "kernelspec": {
      "name": "python3",
      "display_name": "Python 3"
    }
  },
  "cells": [
    {
      "cell_type": "markdown",
      "metadata": {
        "id": "view-in-github",
        "colab_type": "text"
      },
      "source": [
        "<a href=\"https://colab.research.google.com/github/muratkakun/Machine-Learning/blob/master/MLQ2(parametric_classification).ipynb\" target=\"_parent\"><img src=\"https://colab.research.google.com/assets/colab-badge.svg\" alt=\"Open In Colab\"/></a>"
      ]
    },
    {
      "cell_type": "code",
      "metadata": {
        "id": "yXGfByYJ8Atj",
        "colab_type": "code",
        "colab": {}
      },
      "source": [
        "import pandas as pd\n",
        "import numpy as np\n",
        "import matplotlib.pyplot as plt\n",
        "import math\n",
        "\n",
        "df = pd.DataFrame([\n",
        "[1.14, 0],\n",
        "[1.22, 0],\n",
        "[1.18, 0],\n",
        "[1.34, 0],\n",
        "[1.24, 0],\n",
        "[2.12, 1],\n",
        "[2.36, 1],\n",
        "[1.86, 1],\n",
        "[1.64, 1],\n",
        "[2.92, 1]],columns=['Feature1', 'Result'])"
      ],
      "execution_count": 0,
      "outputs": []
    },
    {
      "cell_type": "code",
      "metadata": {
        "id": "jVQLxEvcpn1j",
        "colab_type": "code",
        "colab": {}
      },
      "source": [
        "def FindMuAndVariance(data, columnName):\n",
        "  mu = df.loc[:,columnName].mean()\n",
        "  sigma = ((df.loc[:,columnName] - mu)**2).mean()\n",
        "  return mu, sigma"
      ],
      "execution_count": 0,
      "outputs": []
    },
    {
      "cell_type": "code",
      "metadata": {
        "id": "yjOrRoRl0aEE",
        "colab_type": "code",
        "colab": {}
      },
      "source": [
        "def FindP(x, data, columnName):\n",
        " mu,sq  = FindMuAndVariance(data, columnName)\n",
        " px = (1/((2*math.pi*sq)**(1/2)))*np.exp(-1*(((x - mu)**2)/(2*(sq**2))))\n",
        " return px"
      ],
      "execution_count": 0,
      "outputs": []
    },
    {
      "cell_type": "code",
      "metadata": {
        "id": "m9PYCQxfd280",
        "colab_type": "code",
        "colab": {}
      },
      "source": [
        "from matplotlib.patches import Rectangle\n",
        "colors = {0:'r', 1:'g'}\n",
        "def DrawAllPoints():\n",
        "  fig, ax = plt.subplots()\n",
        "\n",
        "  for i in range(len(df['Feature1'])):\n",
        "      ax.scatter(df['Feature1'][i], df['Result'][i],color=colors[1])\n",
        "\n",
        "  #ax.set_title('Data')\n",
        "  ax.set_xlabel('Feature1')\n",
        "  ax.set_ylabel('Result')\n",
        "  \n",
        "  "
      ],
      "execution_count": 0,
      "outputs": []
    },
    {
      "cell_type": "code",
      "metadata": {
        "id": "O3ICyvITeCic",
        "colab_type": "code",
        "outputId": "63bedaa9-b8e6-4e02-88ef-7d5c38423ec9",
        "colab": {
          "base_uri": "https://localhost:8080/",
          "height": 296
        }
      },
      "source": [
        "DrawAllPoints()\n",
        "mu,sq  = FindMuAndVariance(df, 'Feature1')\n",
        "x = FindP(1.34, df, 'Feature1')\n",
        "print(\"S=\",sq,\" Mu=\", mu, \" Px = \", x)"
      ],
      "execution_count": 14,
      "outputs": [
        {
          "output_type": "stream",
          "text": [
            "S= 0.3285159999999999  Mu= 1.702  Px =  0.3792828521580811\n"
          ],
          "name": "stdout"
        },
        {
          "output_type": "display_data",
          "data": {
            "image/png": "[encoded data removed]",
            "text/plain": [
              "<Figure size 432x288 with 1 Axes>"
            ]
          },
          "metadata": {
            "tags": []
          }
        }
      ]
    }
  ]
}