{
  "nbformat": 4,
  "nbformat_minor": 0,
  "metadata": {
    "colab": {
      "name": "MLQ1(the most specific hypothesis and the most general hypothesis).ipynb",
      "provenance": [],
      "collapsed_sections": [],
      "include_colab_link": true
    },
    "kernelspec": {
      "name": "python3",
      "display_name": "Python 3"
    }
  },
  "cells": [
    {
      "cell_type": "markdown",
      "metadata": {
        "id": "view-in-github",
        "colab_type": "text"
      },
      "source": [
        "<a href=\"https://colab.research.google.com/github/muratkakun/Machine-Learning/blob/master/MLQ1(the_most_specific_hypothesis_and_the_most_general_hypothesis).ipynb\" target=\"_parent\"><img src=\"https://colab.research.google.com/assets/colab-badge.svg\" alt=\"Open In Colab\"/></a>"
      ]
    },
    {
      "cell_type": "code",
      "metadata": {
        "id": "ih0tpV_0FaYq",
        "colab_type": "code",
        "colab": {}
      },
      "source": [
        "import pandas as pd\n",
        "import numpy as np\n",
        "import matplotlib.pyplot as plt\n",
        "\n",
        "df = pd.DataFrame([\n",
        "    [0.9, 0.8, 0],\n",
        "    [0.85, 2.1, 0],\n",
        "    [1.2, 1.0, 0],\n",
        "    [2.1, 0.95, 0],\n",
        "    [3.0, 1.1, 0],\n",
        "    [3.9, 0.7, 0],\n",
        "    [4.0, 1.4, 0],\n",
        "    [4.2, 1.8, 0],\n",
        "    [2.0, 2.3, 0],\n",
        "    [3.0, 2.3, 0],\n",
        "    [1.5, 1.8, 1],\n",
        "    [2.0, 1.5, 1],\n",
        "    [2.2, 2.0, 1],\n",
        "    [2.4, 1.4, 1],\n",
        "    [2.7, 1.85, 1],\n",
        "    [2.0, 1.75, 1],\n",
        "    [2.7, 1.85, 1]\n",
        "    ],columns=['Feature1', 'Feature2', 'Result'])"
      ],
      "execution_count": 0,
      "outputs": []
    },
    {
      "cell_type": "code",
      "metadata": {
        "id": "07FQBW-PcCyr",
        "colab_type": "code",
        "colab": {}
      },
      "source": [
        "def Method1():\n",
        "   \n",
        "\n",
        "    #df['F1RoundDown'] = df['Feature1'].apply(np.floor)\n",
        "    #df['F2RoundDown'] = df['Feature2'].apply(np.floor)\n",
        "\n",
        "    df['F1RoundUp'] = df['Feature1'].round(decimals=0)\n",
        "    df['F2RoundUp'] = df['Feature2'].round(decimals=0)\n",
        "\n",
        "    cols = ['F1RoundUp', 'F2RoundUp']\n",
        "    df[cols] = df[cols].applymap(np.int64)\n",
        "\n",
        "\n",
        "    f1_unique_count = df.F1RoundUp.unique().size\n",
        "    f2_unique_count = df.F2RoundUp.unique().size\n",
        "    #print(df.F1RoundUp.unique())\n",
        "    #print(df.F2RoundUp.unique())\n",
        "\n",
        "    f1_new = df[df['Result'] == 1]['F1RoundUp'].values[0]\n",
        "    f2_new = df[df['Result'] == 1]['F2RoundUp'].values[0]\n",
        "\n",
        "    dfh = pd.DataFrame([[f1_new, f2_new]], columns=['F1', 'F2'])\n",
        "    dfh['F1'] = dfh['F1'].round(decimals=1)\n",
        "    dfh['F2'] = dfh['F2'].round(decimals=1)\n",
        "\n",
        "\n",
        "    print(\"-------------------------------\")\n",
        "\n",
        "    i = 0\n",
        "    for index, row in df[df['Result'] == 1].iterrows():\n",
        "\n",
        "        if i == 0:\n",
        "          i=1;\n",
        "          continue\n",
        "\n",
        "        f1_new = '?'\n",
        "        f2_new = '?'\n",
        "\n",
        "        if row['F1RoundUp'] ==  dfh['F1'].values[i - 1] :\n",
        "          f1_new = pd.to_numeric(row['F1RoundUp'])\n",
        "\n",
        "\n",
        "        if row['F2RoundUp'] == dfh['F2'].values[i - 1]:\n",
        "          f2_new = pd.to_numeric(row['F2RoundUp'])\n",
        "\n",
        "        dfh = dfh.append({'F1' : f1_new , 'F2' : f2_new} , ignore_index=True)\n",
        "\n",
        "        i = i + 1\n",
        "\n",
        "    print(df[df['Result'] == 1])\n",
        "    print(dfh)\n",
        "\n",
        "    print(dfh.tail(1))\n",
        "\n",
        "    hypotes_space = f1_unique_count*f2_unique_count\n",
        "    print(\"Hypotes Space = \", hypotes_space)\n",
        "\n",
        "    #print(\"S = \", dfh.columns[~dfh.isin(['?']).any()]) \n",
        "\n",
        "    new_dfh = dfh[dfh.eq('?').any(1)]\n",
        "\n",
        "\n",
        "    def count_values_in_range(series):\n",
        "        return  (series == '?').sum()\n",
        "\n",
        "    new_dfh['Count'] = new_dfh.apply(\n",
        "        func=lambda row: count_values_in_range(row), axis=1)\n",
        "\n",
        "    indx_max = new_dfh['Count'].idxmax()\n",
        "\n",
        "    indx_min = new_dfh['Count'].idxmin()\n",
        "\n",
        "\n",
        "    print(\"max = \", indx_max)\n",
        "    print(\"min = \", indx_min)\n",
        "    print(new_dfh)\n",
        "\n",
        "\n",
        "\n",
        "    #print(dfh)\n",
        "    print(\"---------------G----------------\")\n",
        "    print(dfh.loc[[indx_max]])\n",
        "    print(\"---------------G----------------\")\n",
        "    print(\"********************************\")\n",
        "    print(\"---------------S----------------\")\n",
        "    print(dfh.loc[[indx_min]])\n",
        "    print(\"---------------S----------------\")"
      ],
      "execution_count": 0,
      "outputs": []
    },
    {
      "cell_type": "code",
      "metadata": {
        "id": "Ct4xnd1AatmZ",
        "colab_type": "code",
        "colab": {}
      },
      "source": [
        "\n",
        "def Method2():\n",
        "   \n",
        "  plt.scatter('Feature1', 'Feature2', data=df)\n",
        "  plt.xlabel('Feature1')\n",
        "  plt.ylabel('Feature2')\n",
        "  plt.show()\n",
        "   # 'Result'"
      ],
      "execution_count": 0,
      "outputs": []
    },
    {
      "cell_type": "code",
      "metadata": {
        "id": "f7Adw97DQEXc",
        "colab_type": "code",
        "colab": {}
      },
      "source": [
        "from matplotlib.patches import Rectangle\n",
        "colors = {0:'r', 1:'g'}\n",
        "def DrawAllPoints():\n",
        "  fig, ax = plt.subplots()\n",
        "\n",
        "  for i in range(len(df['Feature1'])):\n",
        "      ax.scatter(df['Feature1'][i], df['Feature2'][i],color=colors[df['Result'][i]])\n",
        "\n",
        "  #ax.set_title('Data')\n",
        "  ax.set_xlabel('Feature1')\n",
        "  ax.set_ylabel('Feature2')\n",
        " "
      ],
      "execution_count": 0,
      "outputs": []
    },
    {
      "cell_type": "code",
      "metadata": {
        "id": "VtmyQgxPWWNS",
        "colab_type": "code",
        "colab": {}
      },
      "source": [
        "\n",
        "def DrawRec():\n",
        "  \n",
        "  DrawSRec()\n",
        "  DrawGRec()"
      ],
      "execution_count": 0,
      "outputs": []
    },
    {
      "cell_type": "code",
      "metadata": {
        "id": "7c_ewegY-KdV",
        "colab_type": "code",
        "colab": {}
      },
      "source": [
        "def DrawSRec():\n",
        "  \n",
        "  f1 = np.linspace(positive_val.Feature1.min()-shift,       \n",
        "                     positive_val.Feature1.max() + shift)\n",
        "   \n",
        "  plt.gca().fill_between(f1, \n",
        "                       positive_val.Feature2.min() - shift, \n",
        "                       positive_val.Feature2.max() + shift, \n",
        "                       where=None,facecolor='g', alpha=0.3)\n",
        "  "
      ],
      "execution_count": 0,
      "outputs": []
    },
    {
      "cell_type": "code",
      "metadata": {
        "id": "fP1IRw4W-Nnz",
        "colab_type": "code",
        "colab": {}
      },
      "source": [
        "import random\n",
        "def DrawGRec():\n",
        "  All_G = []\n",
        "  \n",
        "  all_x1 = negative_val[negative_val.Feature1<=positive_val.Feature1.min()].Feature1.sort_values(ascending=True) \n",
        "  all_y1 = negative_val[negative_val.Feature2>=positive_val.Feature2.max()].Feature2.sort_values() \n",
        "  \n",
        "  all_x2 = negative_val[negative_val.Feature1>=positive_val.Feature1.max()].Feature1.sort_values() \n",
        "  all_y2 = negative_val[negative_val.Feature2<=positive_val.Feature2.min()].Feature2.sort_values(ascending=True)   \n",
        "  contains_N = False\n",
        "  colors = ['b','g','r','c','m','y','k','w']\n",
        "  color_index = 0\n",
        "  temp_area = 0\n",
        "  max_area = 0\n",
        "  A1 = Point(0, 0)\n",
        "  B1 = Point(0, 0)\n",
        "  C1 = Point(0, 0)\n",
        "  D1 = Point(0, 0)\n",
        "  #A\n",
        "  for y1 in all_y1:  \n",
        "    for x1 in all_x1:  \n",
        "      for x2 in all_x2:\n",
        "        for y2 in all_y2:\n",
        "          \n",
        "          A = Point(x1 + shift, y1 - shift)\n",
        "          B = Point(x2 - shift, y1 - shift)\n",
        "          C = Point(x1 + shift, y2 + shift)\n",
        "          D = Point(x2 - shift, y2 + shift)\n",
        "         \n",
        "          polygon = Polygon([(C.x, C.y), (A.x, A.y), (B.x, B.y), (D.x, D.y)])\n",
        "         \n",
        "          valid_G = CheckGValidity(polygon)\n",
        "         \n",
        "          if(valid_G == True):\n",
        "            All_G.append(polygon)\n",
        "            temp_area = abs((A.y - C.y)*(D.x - C.x))\n",
        "            if  temp_area > max_area:\n",
        "              max_area = temp_area\n",
        "              A1 = A \n",
        "              B1 = B \n",
        "              C1 = C \n",
        "              D1 = D\n",
        "            \n",
        "  #color = \"{}\".format(random.randint(0, 0xFFFFFF))\n",
        "  f2 = np.linspace(A1.x, B1.x)\n",
        "  plt.gca().fill_between(f2, C1.y, A1.y, where=None,facecolor='r', alpha=0.2)\n",
        " "
      ],
      "execution_count": 0,
      "outputs": []
    },
    {
      "cell_type": "code",
      "metadata": {
        "id": "uMaPk-CdDAsd",
        "colab_type": "code",
        "colab": {}
      },
      "source": [
        "from shapely.geometry import Point\n",
        "from shapely.geometry.polygon import Polygon\n",
        "\n",
        "def CheckPoint( point):\n",
        " \n",
        "  polygon = Polygon([(positive_val.Feature1.min() - shift, positive_val.Feature2.min() - shift),\n",
        "                     (positive_val.Feature1.min() - shift, positive_val.Feature2.max() + shift), \n",
        "                     (positive_val.Feature1.max() + shift, positive_val.Feature2.max() + shift), \n",
        "                     (positive_val.Feature1.max() + shift, positive_val.Feature2.min() - shift)])\n",
        "  \n",
        "  return polygon.contains(point)"
      ],
      "execution_count": 0,
      "outputs": []
    },
    {
      "cell_type": "code",
      "metadata": {
        "id": "5szzWiiN2TMX",
        "colab_type": "code",
        "colab": {}
      },
      "source": [
        "def CheckSValidity():\n",
        "  retun_val = True\n",
        "  for index, row in negative_val.iterrows():\n",
        "    x_n = row['Feature1']\n",
        "    y_n = row['Feature2']\n",
        "    point = Point(x_n, y_n)\n",
        "    \n",
        "    if CheckPoint(point) == True:\n",
        "      retun_val =  False\n",
        "      plt.scatter(x_n, y_n, s=100, c=colors[row['Result']])\n",
        "     \n",
        "  return retun_val"
      ],
      "execution_count": 0,
      "outputs": []
    },
    {
      "cell_type": "code",
      "metadata": {
        "id": "SnHZ1X8Bc10O",
        "colab_type": "code",
        "colab": {}
      },
      "source": [
        "def CheckGValidity(polygon_G):\n",
        "  retun_val = True\n",
        "  for index, row in negative_val.iterrows():\n",
        "    x_n = row['Feature1']\n",
        "    y_n = row['Feature2']\n",
        "    point = Point(x_n, y_n)\n",
        "    \n",
        "    if polygon_G.contains(point) == True:\n",
        "      return False\n",
        "          \n",
        "  return True"
      ],
      "execution_count": 0,
      "outputs": []
    },
    {
      "cell_type": "code",
      "metadata": {
        "id": "OwAlBG7WafwF",
        "colab_type": "code",
        "outputId": "409353d7-2732-4319-de2e-3d75d8af9aed",
        "colab": {
          "base_uri": "https://localhost:8080/",
          "height": 296
        }
      },
      "source": [
        "index = 0 #index of value index\n",
        "result = 1 #0 or 1\n",
        "shift = 0.05\n",
        "positive_val = df[df['Result'] == 1] \n",
        "negative_val = df[df['Result'] == 0] \n",
        "\n",
        "DrawAllPoints()\n",
        "check = CheckSValidity()\n",
        "if check == True:\n",
        "  DrawRec()\n",
        "  \n",
        "#x_p = df[df['Result'] == result]['Feature1'].values[index] \n",
        "#y_p = df[df['Result'] == result]['Feature2'].values[index]\n",
        "#plt.scatter(x_p, y_p, s=55)\n",
        "#point = Point(x_p, y_p)\n",
        "#contains = CheckPoint(point)\n",
        "\n",
        "#print(\"(\", x_p,\",\",y_p,\")\", \"Contains Point = \", contains)\n",
        "print(\"Has S Hipotesis = \", check)\n"
      ],
      "execution_count": 138,
      "outputs": [
        {
          "output_type": "stream",
          "text": [
            "Has S Hipotesis =  True\n"
          ],
          "name": "stdout"
        },
        {
          "output_type": "display_data",
          "data": {
            "image/png": "[encoded data removed]",
            "text/plain": [
              "<Figure size 432x288 with 1 Axes>"
            ]
          },
          "metadata": {
            "tags": []
          }
        }
      ]
    },
    {
      "cell_type": "markdown",
      "metadata": {
        "id": "JprLg6Aaolok",
        "colab_type": "text"
      },
      "source": [
        "# New Section"
      ]
    }
  ]
}