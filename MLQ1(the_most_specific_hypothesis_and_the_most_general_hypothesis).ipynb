{
  "nbformat": 4,
  "nbformat_minor": 0,
  "metadata": {
    "colab": {
      "name": "MLQ1(the most specific hypothesis and the most general hypothesis).ipynb",
      "provenance": [],
      "collapsed_sections": [],
      "include_colab_link": true
    },
    "kernelspec": {
      "name": "python3",
      "display_name": "Python 3"
    }
  },
  "cells": [
    {
      "cell_type": "markdown",
      "metadata": {
        "id": "view-in-github",
        "colab_type": "text"
      },
      "source": [
        "<a href=\"https://colab.research.google.com/github/muratkakun/Machine-Learning/blob/master/MLQ1(the_most_specific_hypothesis_and_the_most_general_hypothesis).ipynb\" target=\"_parent\"><img src=\"https://colab.research.google.com/assets/colab-badge.svg\" alt=\"Open In Colab\"/></a>"
      ]
    },
    {
      "cell_type": "code",
      "metadata": {
        "id": "ih0tpV_0FaYq",
        "colab_type": "code",
        "colab": {}
      },
      "source": [
        "import pandas as pd\n",
        "import numpy as np\n",
        "import matplotlib.pyplot as plt\n",
        "\n",
        "df = pd.DataFrame([\n",
        "    [0.9, 0.8, 0],\n",
        "    [0.85, 2.1, 0],\n",
        "    [1.2, 1.0, 0],\n",
        "    [2.1, 0.95, 0],\n",
        "    [3.0, 1.1, 0],\n",
        "    [3.9, 0.7, 0],\n",
        "    [4.0, 1.4, 0],\n",
        "    [4.2, 1.8, 0],\n",
        "    [2.0, 2.3, 0],\n",
        "    [3.0, 2.3, 0],\n",
        "    [1.5, 1.8, 1],\n",
        "    [2.0, 1.5, 1],\n",
        "    [2.2, 2.0, 1],\n",
        "    [2.4, 1.4, 1],\n",
        "    [2.7, 1.85, 1],\n",
        "    [2.7, 1.85, 1]\n",
        "    ],columns=['Feature1', 'Feature2', 'Result'])"
      ],
      "execution_count": 0,
      "outputs": []
    },
    {
      "cell_type": "code",
      "metadata": {
        "id": "07FQBW-PcCyr",
        "colab_type": "code",
        "colab": {}
      },
      "source": [
        "def Method1():\n",
        "   \n",
        "\n",
        "    #df['F1RoundDown'] = df['Feature1'].apply(np.floor)\n",
        "    #df['F2RoundDown'] = df['Feature2'].apply(np.floor)\n",
        "\n",
        "    df['F1RoundUp'] = df['Feature1'].round(decimals=0)\n",
        "    df['F2RoundUp'] = df['Feature2'].round(decimals=0)\n",
        "\n",
        "    cols = ['F1RoundUp', 'F2RoundUp']\n",
        "    df[cols] = df[cols].applymap(np.int64)\n",
        "\n",
        "\n",
        "    f1_unique_count = df.F1RoundUp.unique().size\n",
        "    f2_unique_count = df.F2RoundUp.unique().size\n",
        "    #print(df.F1RoundUp.unique())\n",
        "    #print(df.F2RoundUp.unique())\n",
        "\n",
        "    f1_new = df[df['Result'] == 1]['F1RoundUp'].values[0]\n",
        "    f2_new = df[df['Result'] == 1]['F2RoundUp'].values[0]\n",
        "\n",
        "    dfh = pd.DataFrame([[f1_new, f2_new]], columns=['F1', 'F2'])\n",
        "    dfh['F1'] = dfh['F1'].round(decimals=1)\n",
        "    dfh['F2'] = dfh['F2'].round(decimals=1)\n",
        "\n",
        "\n",
        "    print(\"-------------------------------\")\n",
        "\n",
        "    i = 0\n",
        "    for index, row in df[df['Result'] == 1].iterrows():\n",
        "\n",
        "        if i == 0:\n",
        "          i=1;\n",
        "          continue\n",
        "\n",
        "        f1_new = '?'\n",
        "        f2_new = '?'\n",
        "\n",
        "        if row['F1RoundUp'] ==  dfh['F1'].values[i - 1] :\n",
        "          f1_new = pd.to_numeric(row['F1RoundUp'])\n",
        "\n",
        "\n",
        "        if row['F2RoundUp'] == dfh['F2'].values[i - 1]:\n",
        "          f2_new = pd.to_numeric(row['F2RoundUp'])\n",
        "\n",
        "        dfh = dfh.append({'F1' : f1_new , 'F2' : f2_new} , ignore_index=True)\n",
        "\n",
        "        i = i + 1\n",
        "\n",
        "    print(df[df['Result'] == 1])\n",
        "    print(dfh)\n",
        "\n",
        "    print(dfh.tail(1))\n",
        "\n",
        "    hypotes_space = f1_unique_count*f2_unique_count\n",
        "    print(\"Hypotes Space = \", hypotes_space)\n",
        "\n",
        "    #print(\"S = \", dfh.columns[~dfh.isin(['?']).any()]) \n",
        "\n",
        "    new_dfh = dfh[dfh.eq('?').any(1)]\n",
        "\n",
        "\n",
        "    def count_values_in_range(series):\n",
        "        return  (series == '?').sum()\n",
        "\n",
        "    new_dfh['Count'] = new_dfh.apply(\n",
        "        func=lambda row: count_values_in_range(row), axis=1)\n",
        "\n",
        "    indx_max = new_dfh['Count'].idxmax()\n",
        "\n",
        "    indx_min = new_dfh['Count'].idxmin()\n",
        "\n",
        "\n",
        "    print(\"max = \", indx_max)\n",
        "    print(\"min = \", indx_min)\n",
        "    print(new_dfh)\n",
        "\n",
        "\n",
        "\n",
        "    #print(dfh)\n",
        "    print(\"---------------G----------------\")\n",
        "    print(dfh.loc[[indx_max]])\n",
        "    print(\"---------------G----------------\")\n",
        "    print(\"********************************\")\n",
        "    print(\"---------------S----------------\")\n",
        "    print(dfh.loc[[indx_min]])\n",
        "    print(\"---------------S----------------\")"
      ],
      "execution_count": 0,
      "outputs": []
    },
    {
      "cell_type": "code",
      "metadata": {
        "id": "Ct4xnd1AatmZ",
        "colab_type": "code",
        "colab": {}
      },
      "source": [
        "\n",
        "def Method2():\n",
        "   \n",
        "  plt.scatter('Feature1', 'Feature2', data=df)\n",
        "  plt.xlabel('Feature1')\n",
        "  plt.ylabel('Feature2')\n",
        "  plt.show()\n",
        "   # 'Result'"
      ],
      "execution_count": 0,
      "outputs": []
    },
    {
      "cell_type": "code",
      "metadata": {
        "id": "f7Adw97DQEXc",
        "colab_type": "code",
        "colab": {}
      },
      "source": [
        "from matplotlib.patches import Rectangle\n",
        "def Draw():\n",
        "  colors = {0:'r', 1:'g'}\n",
        "  \n",
        "  fig, ax = plt.subplots()\n",
        "\n",
        "  for i in range(len(df['Feature1'])):\n",
        "      ax.scatter(df['Feature1'][i], df['Feature2'][i],color=colors[df['Result'][i]])\n",
        "\n",
        "  ax.set_title('Data')\n",
        "  ax.set_xlabel('Feature1')\n",
        "  ax.set_ylabel('Feature2')\n",
        " "
      ],
      "execution_count": 0,
      "outputs": []
    },
    {
      "cell_type": "code",
      "metadata": {
        "id": "VtmyQgxPWWNS",
        "colab_type": "code",
        "colab": {}
      },
      "source": [
        "\n",
        "def DrawRec():\n",
        "  shift = 0.05      \n",
        "  positive_val = df[df['Result'] == 1] \n",
        "  negative_val = df[df['Result'] == 0] \n",
        "  \n",
        "  f1 = np.linspace(positive_val.Feature1.min()-shift,       \n",
        "                     positive_val.Feature1.max() + shift)\n",
        "   \n",
        "  plt.gca().fill_between(f1, \n",
        "                       positive_val.Feature2.min() - shift, \n",
        "                       positive_val.Feature2.max() + shift, \n",
        "                       where=None,facecolor='g', alpha=0.2)\n",
        "  \n",
        "  f2 = np.linspace(negative_val[negative_val.Feature1<=positive_val.Feature1.min()].Feature1.max() + shift,       \n",
        "                     negative_val[negative_val.Feature1>=positive_val.Feature1.max()].Feature1.min() -shift)\n",
        "   \n",
        "  plt.gca().fill_between(f2, \n",
        "                       negative_val[negative_val.Feature2<=positive_val.Feature2.min()].Feature2.max(), \n",
        "                       negative_val[negative_val.Feature2>=positive_val.Feature2.max()].Feature2.min() , \n",
        "                       where=None,facecolor='r', alpha=0.2)"
      ],
      "execution_count": 0,
      "outputs": []
    },
    {
      "cell_type": "code",
      "metadata": {
        "id": "OwAlBG7WafwF",
        "colab_type": "code",
        "outputId": "029fdb7d-01db-489b-e2ed-7762548299a5",
        "colab": {
          "base_uri": "https://localhost:8080/",
          "height": 295
        }
      },
      "source": [
        "Draw()\n",
        "DrawRec()"
      ],
      "execution_count": 0,
      "outputs": [
        {
          "output_type": "display_data",
          "data": {
            "image/png": "[encoded data removed]",
            "text/plain": [
              "<Figure size 432x288 with 1 Axes>"
            ]
          },
          "metadata": {
            "tags": []
          }
        }
      ]
    },
    {
      "cell_type": "markdown",
      "metadata": {
        "id": "JprLg6Aaolok",
        "colab_type": "text"
      },
      "source": [
        "# New Section"
      ]
    }
  ]
}