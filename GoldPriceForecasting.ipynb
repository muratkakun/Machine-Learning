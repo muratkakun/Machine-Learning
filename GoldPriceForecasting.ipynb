{
  "nbformat": 4,
  "nbformat_minor": 0,
  "metadata": {
    "colab": {
      "name": "GoldPriceForecasting.ipynb",
      "provenance": [],
      "collapsed_sections": [],
      "include_colab_link": true
    },
    "kernelspec": {
      "name": "python3",
      "display_name": "Python 3"
    }
  },
  "cells": [
    {
      "cell_type": "markdown",
      "metadata": {
        "id": "view-in-github",
        "colab_type": "text"
      },
      "source": [
        "<a href=\"https://colab.research.google.com/github/muratkakun/Machine-Learning/blob/master/GoldPriceForecasting.ipynb\" target=\"_parent\"><img src=\"https://colab.research.google.com/assets/colab-badge.svg\" alt=\"Open In Colab\"/></a>"
      ]
    },
    {
      "cell_type": "code",
      "metadata": {
        "id": "wa7ptilestu0",
        "colab_type": "code",
        "outputId": "a034b603-df01-4973-9f37-5bcb59184e64",
        "colab": {
          "base_uri": "https://localhost:8080/",
          "height": 17
        }
      },
      "source": [
        "import warnings\n",
        "import itertools\n",
        "from math import sqrt\n",
        "from datetime import datetime\n",
        "from numpy import concatenate\n",
        "import numpy as np\n",
        "import pandas as pd\n",
        "import math\n",
        "from sklearn.preprocessing import MinMaxScaler\n",
        "from sklearn.preprocessing import LabelEncoder\n",
        "from sklearn.metrics import mean_squared_error\n",
        "from keras.models import Sequential\n",
        "from keras.layers import Dense, Dropout, Activation\n",
        "from keras.layers import LSTM, Bidirectional, GRU\n",
        "from keras.layers.recurrent import LSTM\n",
        "from sklearn.utils import shuffle\n",
        "import plotly.offline as py\n",
        "import plotly.graph_objs as go\n",
        "import seaborn as sns\n",
        "import matplotlib.pyplot as plt\n",
        "%matplotlib inline\n",
        "py.init_notebook_mode(connected=True)\n",
        "plt.style.use('fivethirtyeight')"
      ],
      "execution_count": 395,
      "outputs": [
        {
          "output_type": "display_data",
          "data": {
            "text/html": [
              "        <script type=\"text/javascript\">\n",
              "        window.PlotlyConfig = {MathJaxConfig: 'local'};\n",
              "        if (window.MathJax) {MathJax.Hub.Config({SVG: {font: \"STIX-Web\"}});}\n",
              "        if (typeof require !== 'undefined') {\n",
              "        require.undef(\"plotly\");\n",
              "        requirejs.config({\n",
              "            paths: {\n",
              "                'plotly': ['https://cdn.plot.ly/plotly-latest.min']\n",
              "            }\n",
              "        });\n",
              "        require(['plotly'], function(Plotly) {\n",
              "            window._Plotly = Plotly;\n",
              "        });\n",
              "        }\n",
              "        </script>\n",
              "        "
            ]
          },
          "metadata": {
            "tags": []
          }
        }
      ]
    },
    {
      "cell_type": "code",
      "metadata": {
        "id": "DHE5RsOetJu4",
        "colab_type": "code",
        "colab": {
          "base_uri": "https://localhost:8080/",
          "height": 194
        },
        "outputId": "3d6efecb-2147-4383-8bdf-f5093ed0d35d"
      },
      "source": [
        "# Datayı Yükleyelim\n",
        "data = pd.read_excel('data.xlsx', date_parser=[0])\n",
        "# İlk 5 Satır\n",
        "data.head()\n",
        "\n",
        "\n"
      ],
      "execution_count": 396,
      "outputs": [
        {
          "output_type": "execute_result",
          "data": {
            "text/html": [
              "<div>\n",
              "<style scoped>\n",
              "    .dataframe tbody tr th:only-of-type {\n",
              "        vertical-align: middle;\n",
              "    }\n",
              "\n",
              "    .dataframe tbody tr th {\n",
              "        vertical-align: top;\n",
              "    }\n",
              "\n",
              "    .dataframe thead th {\n",
              "        text-align: right;\n",
              "    }\n",
              "</style>\n",
              "<table border=\"1\" class=\"dataframe\">\n",
              "  <thead>\n",
              "    <tr style=\"text-align: right;\">\n",
              "      <th></th>\n",
              "      <th>Tarih</th>\n",
              "      <th>AltinAlisFiyati</th>\n",
              "      <th>AltinSatisFiyati</th>\n",
              "    </tr>\n",
              "  </thead>\n",
              "  <tbody>\n",
              "    <tr>\n",
              "      <th>0</th>\n",
              "      <td>2000-01-04</td>\n",
              "      <td>4.849358</td>\n",
              "      <td>4.872745</td>\n",
              "    </tr>\n",
              "    <tr>\n",
              "      <th>1</th>\n",
              "      <td>2000-01-05</td>\n",
              "      <td>4.825193</td>\n",
              "      <td>4.848465</td>\n",
              "    </tr>\n",
              "    <tr>\n",
              "      <th>2</th>\n",
              "      <td>2000-01-06</td>\n",
              "      <td>4.807271</td>\n",
              "      <td>4.830456</td>\n",
              "    </tr>\n",
              "    <tr>\n",
              "      <th>3</th>\n",
              "      <td>2000-01-07</td>\n",
              "      <td>4.853727</td>\n",
              "      <td>4.877136</td>\n",
              "    </tr>\n",
              "    <tr>\n",
              "      <th>4</th>\n",
              "      <td>2000-01-10</td>\n",
              "      <td>4.845124</td>\n",
              "      <td>4.868491</td>\n",
              "    </tr>\n",
              "  </tbody>\n",
              "</table>\n",
              "</div>"
            ],
            "text/plain": [
              "       Tarih  AltinAlisFiyati  AltinSatisFiyati\n",
              "0 2000-01-04         4.849358          4.872745\n",
              "1 2000-01-05         4.825193          4.848465\n",
              "2 2000-01-06         4.807271          4.830456\n",
              "3 2000-01-07         4.853727          4.877136\n",
              "4 2000-01-10         4.845124          4.868491"
            ]
          },
          "metadata": {
            "tags": []
          },
          "execution_count": 396
        }
      ]
    },
    {
      "cell_type": "code",
      "metadata": {
        "id": "PIz6QhZjtgVU",
        "colab_type": "code",
        "outputId": "a98b5bec-a360-4166-8353-a3c5425f0fb2",
        "colab": {
          "base_uri": "https://localhost:8080/",
          "height": 223
        }
      },
      "source": [
        "#Datetime Haline Getirilmesi\n",
        "data['Tarih'] = pd.to_datetime(data.Tarih, format='%Y-%m')\n",
        "#İndex'e Alınması\n",
        "data.index = data.Tarih\n",
        "data.head()\n"
      ],
      "execution_count": 397,
      "outputs": [
        {
          "output_type": "execute_result",
          "data": {
            "text/html": [
              "<div>\n",
              "<style scoped>\n",
              "    .dataframe tbody tr th:only-of-type {\n",
              "        vertical-align: middle;\n",
              "    }\n",
              "\n",
              "    .dataframe tbody tr th {\n",
              "        vertical-align: top;\n",
              "    }\n",
              "\n",
              "    .dataframe thead th {\n",
              "        text-align: right;\n",
              "    }\n",
              "</style>\n",
              "<table border=\"1\" class=\"dataframe\">\n",
              "  <thead>\n",
              "    <tr style=\"text-align: right;\">\n",
              "      <th></th>\n",
              "      <th>Tarih</th>\n",
              "      <th>AltinAlisFiyati</th>\n",
              "      <th>AltinSatisFiyati</th>\n",
              "    </tr>\n",
              "    <tr>\n",
              "      <th>Tarih</th>\n",
              "      <th></th>\n",
              "      <th></th>\n",
              "      <th></th>\n",
              "    </tr>\n",
              "  </thead>\n",
              "  <tbody>\n",
              "    <tr>\n",
              "      <th>2000-01-04</th>\n",
              "      <td>2000-01-04</td>\n",
              "      <td>4.849358</td>\n",
              "      <td>4.872745</td>\n",
              "    </tr>\n",
              "    <tr>\n",
              "      <th>2000-01-05</th>\n",
              "      <td>2000-01-05</td>\n",
              "      <td>4.825193</td>\n",
              "      <td>4.848465</td>\n",
              "    </tr>\n",
              "    <tr>\n",
              "      <th>2000-01-06</th>\n",
              "      <td>2000-01-06</td>\n",
              "      <td>4.807271</td>\n",
              "      <td>4.830456</td>\n",
              "    </tr>\n",
              "    <tr>\n",
              "      <th>2000-01-07</th>\n",
              "      <td>2000-01-07</td>\n",
              "      <td>4.853727</td>\n",
              "      <td>4.877136</td>\n",
              "    </tr>\n",
              "    <tr>\n",
              "      <th>2000-01-10</th>\n",
              "      <td>2000-01-10</td>\n",
              "      <td>4.845124</td>\n",
              "      <td>4.868491</td>\n",
              "    </tr>\n",
              "  </tbody>\n",
              "</table>\n",
              "</div>"
            ],
            "text/plain": [
              "                Tarih  AltinAlisFiyati  AltinSatisFiyati\n",
              "Tarih                                                   \n",
              "2000-01-04 2000-01-04         4.849358          4.872745\n",
              "2000-01-05 2000-01-05         4.825193          4.848465\n",
              "2000-01-06 2000-01-06         4.807271          4.830456\n",
              "2000-01-07 2000-01-07         4.853727          4.877136\n",
              "2000-01-10 2000-01-10         4.845124          4.868491"
            ]
          },
          "metadata": {
            "tags": []
          },
          "execution_count": 397
        }
      ]
    },
    {
      "cell_type": "code",
      "metadata": {
        "id": "Wd2WShyDu6YU",
        "colab_type": "code",
        "outputId": "828647f3-f6d4-42af-f5f5-1e55bc127e14",
        "colab": {
          "base_uri": "https://localhost:8080/",
          "height": 348
        }
      },
      "source": [
        "fig = plt.figure(figsize=(16,5))\n",
        "data.AltinAlisFiyati.plot(label='Altın Alış')\n",
        "plt.legend(loc='best')\n",
        "plt.title('Günlük Gram Altin Aliş Fiyatlari', fontsize=14)\n",
        "plt.show()\n"
      ],
      "execution_count": 398,
      "outputs": [
        {
          "output_type": "display_data",
          "data": {
            "image/png": "[encoded data removed]",
            "text/plain": [
              "<Figure size 1152x360 with 1 Axes>"
            ]
          },
          "metadata": {
            "tags": []
          }
        }
      ]
    },
    {
      "cell_type": "code",
      "metadata": {
        "id": "ZoSUbYMowZq8",
        "colab_type": "code",
        "colab": {}
      },
      "source": [
        "#Normalize\n",
        "values = data['AltinAlisFiyati'].values.reshape(-1,1)\n",
        "values = values.astype('float32')\n",
        "scaler = MinMaxScaler(feature_range=(0, 1))\n",
        "dataset = scaler.fit_transform(values)\n",
        "# Birkaç Değere Bakalım\n"
      ],
      "execution_count": 0,
      "outputs": []
    },
    {
      "cell_type": "code",
      "metadata": {
        "id": "aWQFkCdkwm4j",
        "colab_type": "code",
        "outputId": "e4407667-e2f9-402e-fd21-9e94f32b994a",
        "colab": {
          "base_uri": "https://localhost:8080/",
          "height": 35
        }
      },
      "source": [
        "TRAIN_SIZE = 0.70\n",
        "train_size = int(len(dataset) * TRAIN_SIZE)\n",
        "test_size = len(dataset) - train_size\n",
        "train, test = dataset[0:train_size, :], dataset[train_size:len(dataset), :]\n",
        "print(\"Gün Sayıları (training set, test set): \" + str((len(train), len(test))))"
      ],
      "execution_count": 400,
      "outputs": [
        {
          "output_type": "stream",
          "text": [
            "Gün Sayıları (training set, test set): (3523, 1510)\n"
          ],
          "name": "stdout"
        }
      ]
    },
    {
      "cell_type": "code",
      "metadata": {
        "id": "Zj1cArzRw7cw",
        "colab_type": "code",
        "colab": {}
      },
      "source": [
        "def create_dataset(dataset, window_size = 1):\n",
        "    data_X, data_Y = [], []\n",
        "    for i in range(len(dataset) - window_size - 1):\n",
        "        a = dataset[i:(i + window_size), 0]\n",
        "        data_X.append(a)\n",
        "        data_Y.append(dataset[i + window_size, 0])\n",
        "    return(np.array(data_X), np.array(data_Y))"
      ],
      "execution_count": 0,
      "outputs": []
    },
    {
      "cell_type": "code",
      "metadata": {
        "id": "0rIsynlkG4XP",
        "colab_type": "code",
        "colab": {}
      },
      "source": [
        "use_multiple_layer = False\n",
        "lossError=\"mae\"#rmsprop,mae,mean_squared_error\n",
        "epochCount = 50\n",
        "window_size = 1\n",
        "numberOfHiddenLayer = 64\n",
        "batchSize = 64\n",
        "addDropoutLayer = True"
      ],
      "execution_count": 0,
      "outputs": []
    },
    {
      "cell_type": "code",
      "metadata": {
        "id": "OObQwRwkw_z6",
        "colab_type": "code",
        "outputId": "c09fc4c4-9bac-44f4-9699-af3f03a9ed1b",
        "colab": {
          "base_uri": "https://localhost:8080/",
          "height": 88
        }
      },
      "source": [
        "# Verisetlerimizi Oluşturalım\n",
        "\n",
        "train_X, train_Y = create_dataset(train, window_size)\n",
        "test_X, test_Y = create_dataset(test, window_size)\n",
        "print(\"Original training data shape:\")\n",
        "print(train_X.shape)\n",
        "# Yeni verisetinin şekline bakalım.\n",
        "#train_X = np.reshape(train_X, (train_X.shape[0], 1, train_X.shape[1]))\n",
        "#test_X = np.reshape(test_X, (test_X.shape[0], 1, test_X.shape[1]))\n",
        "\n",
        "# reshape input to be [samples, time steps, features]\n",
        "train_X = np.reshape(train_X, (train_X.shape[0], train_X.shape[1], 1))\n",
        "test_X = np.reshape(test_X, (test_X.shape[0], test_X.shape[1], 1))\n",
        "print(\"New training data shape:\")\n",
        "print(train_X.shape)\n"
      ],
      "execution_count": 403,
      "outputs": [
        {
          "output_type": "stream",
          "text": [
            "Original training data shape:\n",
            "(3521, 1)\n",
            "New training data shape:\n",
            "(3521, 1, 1)\n"
          ],
          "name": "stdout"
        }
      ]
    },
    {
      "cell_type": "code",
      "metadata": {
        "id": "WQOs3ofvxGpg",
        "colab_type": "code",
        "colab": {}
      },
      "source": [
        "def fit_model(train_X, train_Y, window_size = 1):\n",
        "    model = Sequential()\n",
        "    # Modelin tek layerlı şekilde kurulacak.\n",
        "    model.add(LSTM(numberOfHiddenLayer, input_shape = (window_size, 1), return_sequences=use_multiple_layer))\n",
        "    #model ezberlemsin diye\n",
        "    if(use_multiple_layer):\n",
        "      model.add(Dropout(0.2))\n",
        "      model.add(LSTM(int(numberOfHiddenLayer/2), return_sequences=False))\n",
        "      #model.add(LSTM(32, return_sequences=False))\n",
        "    if(addDropoutLayer):\n",
        "     model.add(Dropout(0.2))\n",
        "    model.add(Dense(1))\n",
        "    model.compile(loss = lossError, optimizer = \"adam\")\n",
        "   #30 epoch yani 30 kere verisetine bakılacak.\n",
        "    print(\"LSTM\")\n",
        "    model.summary()\n",
        "    model.fit(train_X, train_Y, epochs = epochCount, batch_size = batchSize, verbose = 1, shuffle=False)\n",
        "    \n",
        "    return(model)"
      ],
      "execution_count": 0,
      "outputs": []
    },
    {
      "cell_type": "code",
      "metadata": {
        "id": "HD1rHpb487xS",
        "colab_type": "code",
        "colab": {}
      },
      "source": [
        "def fit_model_gru(train_X, train_Y, window_size = 1):\n",
        "    model = Sequential()\n",
        "    # Modelin tek layerlı şekilde kurulacak.\n",
        "    model.add(GRU(numberOfHiddenLayer, input_shape = (window_size, 1), return_sequences=use_multiple_layer))\n",
        "    #model ezberlemesin diye\n",
        "    if(use_multiple_layer):\n",
        "      model.add(Dropout(0.2))\n",
        "      model.add(GRU(int(numberOfHiddenLayer/2), return_sequences=False))\n",
        "    if(addDropoutLayer):\n",
        "     model.add(Dropout(0.2))\n",
        "    model.add(Dense(1))\n",
        "    model.compile(loss = lossError, optimizer = \"adam\")#rmsprop,mae,mean_squared_error\n",
        "   #30 epoch yani 30 kere verisetine bakılacak.\n",
        "    print(\"GRU\")\n",
        "    model.summary()\n",
        "    model.fit(train_X, train_Y, epochs = epochCount, batch_size = batchSize, verbose = 1, shuffle=False)\n",
        "    \n",
        "    return(model)"
      ],
      "execution_count": 0,
      "outputs": []
    },
    {
      "cell_type": "code",
      "metadata": {
        "id": "vMJkwEhP4KOp",
        "colab_type": "code",
        "colab": {}
      },
      "source": [
        "def fit_model_lstm2(train_X, train_Y, window_size = 1):\n",
        "    model = Sequential()\n",
        "    model.add(LSTM(4, input_shape=(1, 1)))\n",
        "    if(addDropoutLayer):\n",
        "     model.add(Dropout(0.2))\n",
        "    model.add(Dense(1))\n",
        "    model.compile(loss=lossError, optimizer='adam')\n",
        "    print(\"LSTM2\")\n",
        "    model.summary()\n",
        "    model.fit(train_X, train_Y, epochs=epochCount, batch_size=batchSize, verbose=1)\n",
        "    \n",
        "    return(model)"
      ],
      "execution_count": 0,
      "outputs": []
    },
    {
      "cell_type": "code",
      "metadata": {
        "id": "yAnkTmq-xPYB",
        "colab_type": "code",
        "colab": {}
      },
      "source": [
        "def predict_and_score(model, X, Y):\n",
        "    # Şimdi tahminleri 0-1 ile scale edilmiş halinden geri çeviriyoruz.\n",
        "    pred = scaler.inverse_transform(model.predict(X))\n",
        "    orig_data = scaler.inverse_transform([Y])\n",
        "    # Rmse değerlerini ölçüyoruz.\n",
        "    score = math.sqrt(mean_squared_error(orig_data[0], pred[:, 0]))\n",
        "    return(score, pred)"
      ],
      "execution_count": 0,
      "outputs": []
    },
    {
      "cell_type": "code",
      "metadata": {
        "id": "C4u5xeZU83dU",
        "colab_type": "code",
        "colab": {
          "base_uri": "https://localhost:8080/",
          "height": 1000
        },
        "outputId": "fd016d3d-0ff7-4139-f944-80075047f355"
      },
      "source": [
        "model1 = fit_model(train_X, train_Y, window_size)\n",
        "rmse_train, train_predict = predict_and_score(model1, train_X, train_Y)\n",
        "rmse_test, test_predict = predict_and_score(model1, test_X, test_Y)"
      ],
      "execution_count": 408,
      "outputs": [
        {
          "output_type": "stream",
          "text": [
            "LSTM\n",
            "Model: \"sequential_57\"\n",
            "_________________________________________________________________\n",
            "Layer (type)                 Output Shape              Param #   \n",
            "=================================================================\n",
            "lstm_38 (LSTM)               (None, 64)                16896     \n",
            "_________________________________________________________________\n",
            "dropout_46 (Dropout)         (None, 64)                0         \n",
            "_________________________________________________________________\n",
            "dense_56 (Dense)             (None, 1)                 65        \n",
            "=================================================================\n",
            "Total params: 16,961\n",
            "Trainable params: 16,961\n",
            "Non-trainable params: 0\n",
            "_________________________________________________________________\n",
            "Epoch 1/50\n",
            "3521/3521 [==============================] - 11s 3ms/step - loss: 0.0329\n",
            "Epoch 2/50\n",
            "3521/3521 [==============================] - 0s 71us/step - loss: 0.1195\n",
            "Epoch 3/50\n",
            "3521/3521 [==============================] - 0s 66us/step - loss: 0.0806\n",
            "Epoch 4/50\n",
            "3521/3521 [==============================] - 0s 64us/step - loss: 0.0620\n",
            "Epoch 5/50\n",
            "3521/3521 [==============================] - 0s 66us/step - loss: 0.0621\n",
            "Epoch 6/50\n",
            "3521/3521 [==============================] - 0s 64us/step - loss: 0.0437\n",
            "Epoch 7/50\n",
            "3521/3521 [==============================] - 0s 70us/step - loss: 0.0323\n",
            "Epoch 8/50\n",
            "3521/3521 [==============================] - 0s 71us/step - loss: 0.0203\n",
            "Epoch 9/50\n",
            "3521/3521 [==============================] - 0s 70us/step - loss: 0.0180\n",
            "Epoch 10/50\n",
            "3521/3521 [==============================] - 0s 71us/step - loss: 0.0128\n",
            "Epoch 11/50\n",
            "3521/3521 [==============================] - 0s 72us/step - loss: 0.0125\n",
            "Epoch 12/50\n",
            "3521/3521 [==============================] - 0s 71us/step - loss: 0.0124\n",
            "Epoch 13/50\n",
            "3521/3521 [==============================] - 0s 65us/step - loss: 0.0090\n",
            "Epoch 14/50\n",
            "3521/3521 [==============================] - 0s 63us/step - loss: 0.0087\n",
            "Epoch 15/50\n",
            "3521/3521 [==============================] - 0s 62us/step - loss: 0.0101\n",
            "Epoch 16/50\n",
            "3521/3521 [==============================] - 0s 70us/step - loss: 0.0090\n",
            "Epoch 17/50\n",
            "3521/3521 [==============================] - 0s 68us/step - loss: 0.0073\n",
            "Epoch 18/50\n",
            "3521/3521 [==============================] - 0s 71us/step - loss: 0.0065\n",
            "Epoch 19/50\n",
            "3521/3521 [==============================] - 0s 70us/step - loss: 0.0064\n",
            "Epoch 20/50\n",
            "3521/3521 [==============================] - 0s 69us/step - loss: 0.0062\n",
            "Epoch 21/50\n",
            "3521/3521 [==============================] - 0s 67us/step - loss: 0.0074\n",
            "Epoch 22/50\n",
            "3521/3521 [==============================] - 0s 63us/step - loss: 0.0066\n",
            "Epoch 23/50\n",
            "3521/3521 [==============================] - 0s 66us/step - loss: 0.0062\n",
            "Epoch 24/50\n",
            "3521/3521 [==============================] - 0s 72us/step - loss: 0.0062\n",
            "Epoch 25/50\n",
            "3521/3521 [==============================] - 0s 66us/step - loss: 0.0066\n",
            "Epoch 26/50\n",
            "3521/3521 [==============================] - 0s 68us/step - loss: 0.0066\n",
            "Epoch 27/50\n",
            "3521/3521 [==============================] - 0s 69us/step - loss: 0.0060\n",
            "Epoch 28/50\n",
            "3521/3521 [==============================] - 0s 72us/step - loss: 0.0079\n",
            "Epoch 29/50\n",
            "3521/3521 [==============================] - 0s 71us/step - loss: 0.0087\n",
            "Epoch 30/50\n",
            "3521/3521 [==============================] - 0s 71us/step - loss: 0.0078\n",
            "Epoch 31/50\n",
            "3521/3521 [==============================] - 0s 67us/step - loss: 0.0059\n",
            "Epoch 32/50\n",
            "3521/3521 [==============================] - 0s 71us/step - loss: 0.0057\n",
            "Epoch 33/50\n",
            "3521/3521 [==============================] - 0s 67us/step - loss: 0.0059\n",
            "Epoch 34/50\n",
            "3521/3521 [==============================] - 0s 65us/step - loss: 0.0067\n",
            "Epoch 35/50\n",
            "3521/3521 [==============================] - 0s 64us/step - loss: 0.0054\n",
            "Epoch 36/50\n",
            "3521/3521 [==============================] - 0s 64us/step - loss: 0.0076\n",
            "Epoch 37/50\n",
            "3521/3521 [==============================] - 0s 64us/step - loss: 0.0088\n",
            "Epoch 38/50\n",
            "3521/3521 [==============================] - 0s 67us/step - loss: 0.0093\n",
            "Epoch 39/50\n",
            "3521/3521 [==============================] - 0s 63us/step - loss: 0.0115\n",
            "Epoch 40/50\n",
            "3521/3521 [==============================] - 0s 64us/step - loss: 0.0090\n",
            "Epoch 41/50\n",
            "3521/3521 [==============================] - 0s 64us/step - loss: 0.0078\n",
            "Epoch 42/50\n",
            "3521/3521 [==============================] - 0s 65us/step - loss: 0.0083\n",
            "Epoch 43/50\n",
            "3521/3521 [==============================] - 0s 66us/step - loss: 0.0095\n",
            "Epoch 44/50\n",
            "3521/3521 [==============================] - 0s 71us/step - loss: 0.0080\n",
            "Epoch 45/50\n",
            "3521/3521 [==============================] - 0s 72us/step - loss: 0.0067\n",
            "Epoch 46/50\n",
            "3521/3521 [==============================] - 0s 67us/step - loss: 0.0054\n",
            "Epoch 47/50\n",
            "3521/3521 [==============================] - 0s 71us/step - loss: 0.0071\n",
            "Epoch 48/50\n",
            "3521/3521 [==============================] - 0s 71us/step - loss: 0.0054\n",
            "Epoch 49/50\n",
            "3521/3521 [==============================] - 0s 68us/step - loss: 0.0052\n",
            "Epoch 50/50\n",
            "3521/3521 [==============================] - 0s 62us/step - loss: 0.0066\n"
          ],
          "name": "stdout"
        }
      ]
    },
    {
      "cell_type": "code",
      "metadata": {
        "id": "p5RS8Pdg8lIc",
        "colab_type": "code",
        "colab": {
          "base_uri": "https://localhost:8080/",
          "height": 1000
        },
        "outputId": "3491e3f1-b199-49f1-82a1-41e7ea03f768"
      },
      "source": [
        "model_gru = fit_model_gru(train_X, train_Y, window_size)\n",
        "rmse_train_gru, train_predict_gru = predict_and_score(model_gru, train_X, train_Y)\n",
        "rmse_test_gru, test_predict_gru = predict_and_score(model_gru, test_X, test_Y)"
      ],
      "execution_count": 409,
      "outputs": [
        {
          "output_type": "stream",
          "text": [
            "GRU\n",
            "Model: \"sequential_58\"\n",
            "_________________________________________________________________\n",
            "Layer (type)                 Output Shape              Param #   \n",
            "=================================================================\n",
            "gru_26 (GRU)                 (None, 64)                12672     \n",
            "_________________________________________________________________\n",
            "dropout_47 (Dropout)         (None, 64)                0         \n",
            "_________________________________________________________________\n",
            "dense_57 (Dense)             (None, 1)                 65        \n",
            "=================================================================\n",
            "Total params: 12,737\n",
            "Trainable params: 12,737\n",
            "Non-trainable params: 0\n",
            "_________________________________________________________________\n",
            "Epoch 1/50\n",
            "3521/3521 [==============================] - 11s 3ms/step - loss: 0.0265\n",
            "Epoch 2/50\n",
            "3521/3521 [==============================] - 0s 63us/step - loss: 0.0993\n",
            "Epoch 3/50\n",
            "3521/3521 [==============================] - 0s 62us/step - loss: 0.0512\n",
            "Epoch 4/50\n",
            "3521/3521 [==============================] - 0s 56us/step - loss: 0.0423\n",
            "Epoch 5/50\n",
            "3521/3521 [==============================] - 0s 58us/step - loss: 0.0279\n",
            "Epoch 6/50\n",
            "3521/3521 [==============================] - 0s 58us/step - loss: 0.0213\n",
            "Epoch 7/50\n",
            "3521/3521 [==============================] - 0s 59us/step - loss: 0.0154\n",
            "Epoch 8/50\n",
            "3521/3521 [==============================] - 0s 65us/step - loss: 0.0144\n",
            "Epoch 9/50\n",
            "3521/3521 [==============================] - 0s 61us/step - loss: 0.0119\n",
            "Epoch 10/50\n",
            "3521/3521 [==============================] - 0s 57us/step - loss: 0.0112\n",
            "Epoch 11/50\n",
            "3521/3521 [==============================] - 0s 59us/step - loss: 0.0105\n",
            "Epoch 12/50\n",
            "3521/3521 [==============================] - 0s 63us/step - loss: 0.0113\n",
            "Epoch 13/50\n",
            "3521/3521 [==============================] - 0s 67us/step - loss: 0.0109\n",
            "Epoch 14/50\n",
            "3521/3521 [==============================] - 0s 64us/step - loss: 0.0121\n",
            "Epoch 15/50\n",
            "3521/3521 [==============================] - 0s 58us/step - loss: 0.0094\n",
            "Epoch 16/50\n",
            "3521/3521 [==============================] - 0s 64us/step - loss: 0.0075\n",
            "Epoch 17/50\n",
            "3521/3521 [==============================] - 0s 64us/step - loss: 0.0071\n",
            "Epoch 18/50\n",
            "3521/3521 [==============================] - 0s 64us/step - loss: 0.0068\n",
            "Epoch 19/50\n",
            "3521/3521 [==============================] - 0s 60us/step - loss: 0.0071\n",
            "Epoch 20/50\n",
            "3521/3521 [==============================] - 0s 59us/step - loss: 0.0080\n",
            "Epoch 21/50\n",
            "3521/3521 [==============================] - 0s 62us/step - loss: 0.0066\n",
            "Epoch 22/50\n",
            "3521/3521 [==============================] - 0s 65us/step - loss: 0.0088\n",
            "Epoch 23/50\n",
            "3521/3521 [==============================] - 0s 59us/step - loss: 0.0065\n",
            "Epoch 24/50\n",
            "3521/3521 [==============================] - 0s 64us/step - loss: 0.0063\n",
            "Epoch 25/50\n",
            "3521/3521 [==============================] - 0s 59us/step - loss: 0.0061\n",
            "Epoch 26/50\n",
            "3521/3521 [==============================] - 0s 54us/step - loss: 0.0070\n",
            "Epoch 27/50\n",
            "3521/3521 [==============================] - 0s 56us/step - loss: 0.0061\n",
            "Epoch 28/50\n",
            "3521/3521 [==============================] - 0s 58us/step - loss: 0.0062\n",
            "Epoch 29/50\n",
            "3521/3521 [==============================] - 0s 62us/step - loss: 0.0067\n",
            "Epoch 30/50\n",
            "3521/3521 [==============================] - 0s 57us/step - loss: 0.0098\n",
            "Epoch 31/50\n",
            "3521/3521 [==============================] - 0s 56us/step - loss: 0.0068\n",
            "Epoch 32/50\n",
            "3521/3521 [==============================] - 0s 58us/step - loss: 0.0057\n",
            "Epoch 33/50\n",
            "3521/3521 [==============================] - 0s 56us/step - loss: 0.0058\n",
            "Epoch 34/50\n",
            "3521/3521 [==============================] - 0s 64us/step - loss: 0.0073\n",
            "Epoch 35/50\n",
            "3521/3521 [==============================] - 0s 69us/step - loss: 0.0065\n",
            "Epoch 36/50\n",
            "3521/3521 [==============================] - 0s 57us/step - loss: 0.0075\n",
            "Epoch 37/50\n",
            "3521/3521 [==============================] - 0s 64us/step - loss: 0.0054\n",
            "Epoch 38/50\n",
            "3521/3521 [==============================] - 0s 60us/step - loss: 0.0076\n",
            "Epoch 39/50\n",
            "3521/3521 [==============================] - 0s 65us/step - loss: 0.0094\n",
            "Epoch 40/50\n",
            "3521/3521 [==============================] - 0s 64us/step - loss: 0.0072\n",
            "Epoch 41/50\n",
            "3521/3521 [==============================] - 0s 67us/step - loss: 0.0057\n",
            "Epoch 42/50\n",
            "3521/3521 [==============================] - 0s 58us/step - loss: 0.0083\n",
            "Epoch 43/50\n",
            "3521/3521 [==============================] - 0s 62us/step - loss: 0.0054\n",
            "Epoch 44/50\n",
            "3521/3521 [==============================] - 0s 67us/step - loss: 0.0073\n",
            "Epoch 45/50\n",
            "3521/3521 [==============================] - 0s 59us/step - loss: 0.0079\n",
            "Epoch 46/50\n",
            "3521/3521 [==============================] - 0s 57us/step - loss: 0.0061\n",
            "Epoch 47/50\n",
            "3521/3521 [==============================] - 0s 61us/step - loss: 0.0053\n",
            "Epoch 48/50\n",
            "3521/3521 [==============================] - 0s 63us/step - loss: 0.0077\n",
            "Epoch 49/50\n",
            "3521/3521 [==============================] - 0s 67us/step - loss: 0.0058\n",
            "Epoch 50/50\n",
            "3521/3521 [==============================] - 0s 68us/step - loss: 0.0066\n"
          ],
          "name": "stdout"
        }
      ]
    },
    {
      "cell_type": "code",
      "metadata": {
        "id": "kaKCugo58lb9",
        "colab_type": "code",
        "colab": {}
      },
      "source": [
        "#model_lstm2 = fit_model_lstm2(train_X, train_Y, window_size)\n",
        "#rmse_train_lstm2, train_predict_lstm2 = predict_and_score(model_lstm2, train_X, train_Y)\n",
        "#rmse_test_lstm2, test_predict_lstm2 = predict_and_score(model_lstm2, test_X, test_Y)"
      ],
      "execution_count": 0,
      "outputs": []
    },
    {
      "cell_type": "code",
      "metadata": {
        "id": "Aic-tB4d8ybo",
        "colab_type": "code",
        "colab": {
          "base_uri": "https://localhost:8080/",
          "height": 88
        },
        "outputId": "dce5ef83-ebf6-4de7-ec31-c9a2bff3c2db"
      },
      "source": [
        "print(\"Training data score: %.2f RMSE(LSTM)\" % rmse_train)\n",
        "print(\"Test data score: %.2f RMSE(LSTM)\" % rmse_test)\n",
        "\n",
        "print(\"Train data score: %.2f RMSE(GRU)\" % rmse_train_gru)\n",
        "print(\"Test data score: %.2f RMSE(GRU)\" % rmse_test_gru)\n",
        "\n",
        "#print(\"Train data score: %.2f RMSE(LSTM2)\" % rmse_train_lstm2)\n",
        "#print(\"Test data score: %.2f RMSE(LSTM2)\" % rmse_test_lstm2)"
      ],
      "execution_count": 411,
      "outputs": [
        {
          "output_type": "stream",
          "text": [
            "Training data score: 2.62 RMSE(LSTM)\n",
            "Test data score: 3.28 RMSE(LSTM)\n",
            "Train data score: 3.64 RMSE(GRU)\n",
            "Test data score: 3.22 RMSE(GRU)\n"
          ],
          "name": "stdout"
        }
      ]
    },
    {
      "cell_type": "code",
      "metadata": {
        "id": "kJ5MVaHXxTg4",
        "colab_type": "code",
        "outputId": "8ab11bb3-4538-4316-ad9c-1b113e2bfaa8",
        "colab": {
          "base_uri": "https://localhost:8080/",
          "height": 653
        }
      },
      "source": [
        "# Öğrendiklerinini tahminletip ekliyoruz.\n",
        "train_predict_plot = np.empty_like(dataset)\n",
        "train_predict_plot[:, :] = np.nan\n",
        "train_predict_plot[window_size:len(train_predict) + window_size, :] = train_predict\n",
        "# Şimdi ise testleri tahminletiyoruz.\n",
        "test_predict_plot = np.empty_like(dataset)\n",
        "test_predict_plot[:, :] = np.nan\n",
        "test_predict_plot[len(train_predict) + (window_size * 2) + 1:len(dataset) - 1, :] = test_predict\n",
        "\n",
        "# Öğrendiklerinini tahminletip ekliyoruz.Gru\n",
        "train_predict_plot_gru = np.empty_like(dataset)\n",
        "train_predict_plot_gru[:, :] = np.nan\n",
        "train_predict_plot_gru[window_size:len(train_predict_gru) + window_size, :] = train_predict_gru\n",
        "# Şimdi ise testleri tahminletiyoruz.Gru\n",
        "test_predict_plot_gru = np.empty_like(dataset)\n",
        "test_predict_plot_gru[:, :] = np.nan\n",
        "test_predict_plot_gru[len(train_predict_gru) + (window_size * 2) + 1:len(dataset) - 1, :] = test_predict_gru\n",
        "\n",
        "# Öğrendiklerinini tahminletip ekliyoruz.Lstm2\n",
        "train_predict_plot_lstm2 = np.empty_like(dataset)\n",
        "train_predict_plot_lstm2[:, :] = np.nan\n",
        "train_predict_plot_lstm2[window_size:len(train_predict_lstm2) + window_size, :] = train_predict_lstm2\n",
        "# Şimdi ise testleri tahminletiyoruz.Lstm2\n",
        "test_predict_plot_lstm2 = np.empty_like(dataset)\n",
        "test_predict_plot_lstm2[:, :] = np.nan\n",
        "test_predict_plot_lstm2[len(train_predict_lstm2) + (window_size * 2) + 1:len(dataset) - 1, :] = test_predict_lstm2\n",
        "\n",
        "\n",
        "# Plot'u oluşturalım.\n",
        "plt.figure(figsize = (15, 10))\n",
        "plt.plot(scaler.inverse_transform(dataset), label = \"Gerçek Fiyat\")\n",
        "plt.plot(train_predict_plot, label = \"Eğitim Seti Tahmini(LSTM)\")\n",
        "plt.plot(test_predict_plot, label = \"Test Seti Tahmini(LSTM)\")\n",
        "plt.plot(train_predict_plot_gru, label = \"Eğitim Seti Tahmini(GRU)\")\n",
        "plt.plot(test_predict_plot_gru, label = \"Test Seti Tahmini(GRU)\")\n",
        "#plt.plot(train_predict_plot_lstm2, label = \"Eğitim Seti Tahmini(LSTM2)\")\n",
        "#plt.plot(test_predict_plot_lstm2, label = \"Test Seti Tahmini(LSTM2)\")\n",
        "\n",
        "\n",
        "#plt.xlabel(\"Aylar\")\n",
        "plt.ylabel(\"Altın Fiyatları\")\n",
        "plt.title(\"Sonuç\")\n",
        "plt.legend()\n",
        "plt.show()\n",
        "\n",
        "#data2 = data2.reshape((1, 2, 1, 2, 1))\n",
        "#yhat = model1.predict(data2, verbose=0)\n",
        "#print(yhat)"
      ],
      "execution_count": 412,
      "outputs": [
        {
          "output_type": "display_data",
          "data": {
            "image/png": "[encoded data removed]",
            "text/plain": [
              "<Figure size 1080x720 with 1 Axes>"
            ]
          },
          "metadata": {
            "tags": []
          }
        }
      ]
    }
  ]
}