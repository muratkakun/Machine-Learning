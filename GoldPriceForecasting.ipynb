{
  "nbformat": 4,
  "nbformat_minor": 0,
  "metadata": {
    "colab": {
      "name": "GoldPriceForecasting.ipynb",
      "provenance": [],
      "collapsed_sections": [],
      "include_colab_link": true
    },
    "kernelspec": {
      "name": "python3",
      "display_name": "Python 3"
    }
  },
  "cells": [
    {
      "cell_type": "markdown",
      "metadata": {
        "id": "view-in-github",
        "colab_type": "text"
      },
      "source": [
        "<a href=\"https://colab.research.google.com/github/muratkakun/Machine-Learning/blob/master/GoldPriceForecasting.ipynb\" target=\"_parent\"><img src=\"https://colab.research.google.com/assets/colab-badge.svg\" alt=\"Open In Colab\"/></a>"
      ]
    },
    {
      "cell_type": "code",
      "metadata": {
        "id": "wa7ptilestu0",
        "colab_type": "code",
        "outputId": "ee9a2ff4-04a8-4cee-8b93-5d2ff5599806",
        "colab": {
          "base_uri": "https://localhost:8080/",
          "height": 17
        }
      },
      "source": [
        "import warnings\n",
        "import itertools\n",
        "from math import sqrt\n",
        "from datetime import datetime\n",
        "from numpy import concatenate\n",
        "import numpy as np\n",
        "import pandas as pd\n",
        "import math\n",
        "from sklearn.preprocessing import MinMaxScaler\n",
        "from sklearn.preprocessing import LabelEncoder\n",
        "from sklearn.metrics import mean_squared_error\n",
        "from keras.models import Sequential\n",
        "from keras.layers import Dense, Dropout, Activation\n",
        "from keras.layers import LSTM, Bidirectional, GRU\n",
        "from keras.layers.recurrent import LSTM\n",
        "from sklearn.utils import shuffle\n",
        "import plotly.offline as py\n",
        "import plotly.graph_objs as go\n",
        "import seaborn as sns\n",
        "import matplotlib.pyplot as plt\n",
        "%matplotlib inline\n",
        "py.init_notebook_mode(connected=True)\n",
        "plt.style.use('fivethirtyeight')"
      ],
      "execution_count": 304,
      "outputs": [
        {
          "output_type": "display_data",
          "data": {
            "text/html": [
              "        <script type=\"text/javascript\">\n",
              "        window.PlotlyConfig = {MathJaxConfig: 'local'};\n",
              "        if (window.MathJax) {MathJax.Hub.Config({SVG: {font: \"STIX-Web\"}});}\n",
              "        if (typeof require !== 'undefined') {\n",
              "        require.undef(\"plotly\");\n",
              "        requirejs.config({\n",
              "            paths: {\n",
              "                'plotly': ['https://cdn.plot.ly/plotly-latest.min']\n",
              "            }\n",
              "        });\n",
              "        require(['plotly'], function(Plotly) {\n",
              "            window._Plotly = Plotly;\n",
              "        });\n",
              "        }\n",
              "        </script>\n",
              "        "
            ]
          },
          "metadata": {
            "tags": []
          }
        }
      ]
    },
    {
      "cell_type": "code",
      "metadata": {
        "id": "DHE5RsOetJu4",
        "colab_type": "code",
        "colab": {
          "base_uri": "https://localhost:8080/",
          "height": 194
        },
        "outputId": "71438995-c614-4f9e-e290-c2d9309a60fb"
      },
      "source": [
        "# Datayı Yükleyelim\n",
        "data = pd.read_excel('data.xlsx', date_parser=[0])\n",
        "# İlk 5 Satır\n",
        "data.head()\n",
        "\n",
        "\n"
      ],
      "execution_count": 305,
      "outputs": [
        {
          "output_type": "execute_result",
          "data": {
            "text/html": [
              "<div>\n",
              "<style scoped>\n",
              "    .dataframe tbody tr th:only-of-type {\n",
              "        vertical-align: middle;\n",
              "    }\n",
              "\n",
              "    .dataframe tbody tr th {\n",
              "        vertical-align: top;\n",
              "    }\n",
              "\n",
              "    .dataframe thead th {\n",
              "        text-align: right;\n",
              "    }\n",
              "</style>\n",
              "<table border=\"1\" class=\"dataframe\">\n",
              "  <thead>\n",
              "    <tr style=\"text-align: right;\">\n",
              "      <th></th>\n",
              "      <th>Tarih</th>\n",
              "      <th>AltinAlisFiyati</th>\n",
              "      <th>AltinSatisFiyati</th>\n",
              "    </tr>\n",
              "  </thead>\n",
              "  <tbody>\n",
              "    <tr>\n",
              "      <th>0</th>\n",
              "      <td>2000-01-04</td>\n",
              "      <td>4.849358</td>\n",
              "      <td>4.872745</td>\n",
              "    </tr>\n",
              "    <tr>\n",
              "      <th>1</th>\n",
              "      <td>2000-01-05</td>\n",
              "      <td>4.825193</td>\n",
              "      <td>4.848465</td>\n",
              "    </tr>\n",
              "    <tr>\n",
              "      <th>2</th>\n",
              "      <td>2000-01-06</td>\n",
              "      <td>4.807271</td>\n",
              "      <td>4.830456</td>\n",
              "    </tr>\n",
              "    <tr>\n",
              "      <th>3</th>\n",
              "      <td>2000-01-07</td>\n",
              "      <td>4.853727</td>\n",
              "      <td>4.877136</td>\n",
              "    </tr>\n",
              "    <tr>\n",
              "      <th>4</th>\n",
              "      <td>2000-01-10</td>\n",
              "      <td>4.845124</td>\n",
              "      <td>4.868491</td>\n",
              "    </tr>\n",
              "  </tbody>\n",
              "</table>\n",
              "</div>"
            ],
            "text/plain": [
              "       Tarih  AltinAlisFiyati  AltinSatisFiyati\n",
              "0 2000-01-04         4.849358          4.872745\n",
              "1 2000-01-05         4.825193          4.848465\n",
              "2 2000-01-06         4.807271          4.830456\n",
              "3 2000-01-07         4.853727          4.877136\n",
              "4 2000-01-10         4.845124          4.868491"
            ]
          },
          "metadata": {
            "tags": []
          },
          "execution_count": 305
        }
      ]
    },
    {
      "cell_type": "code",
      "metadata": {
        "id": "PIz6QhZjtgVU",
        "colab_type": "code",
        "outputId": "a8684c08-f73d-407d-bf99-f5aea68ed203",
        "colab": {
          "base_uri": "https://localhost:8080/",
          "height": 223
        }
      },
      "source": [
        "#Datetime Haline Getirilmesi\n",
        "data['Tarih'] = pd.to_datetime(data.Tarih, format='%Y-%m')\n",
        "#İndex'e Alınması\n",
        "data.index = data.Tarih\n",
        "data.head()\n"
      ],
      "execution_count": 306,
      "outputs": [
        {
          "output_type": "execute_result",
          "data": {
            "text/html": [
              "<div>\n",
              "<style scoped>\n",
              "    .dataframe tbody tr th:only-of-type {\n",
              "        vertical-align: middle;\n",
              "    }\n",
              "\n",
              "    .dataframe tbody tr th {\n",
              "        vertical-align: top;\n",
              "    }\n",
              "\n",
              "    .dataframe thead th {\n",
              "        text-align: right;\n",
              "    }\n",
              "</style>\n",
              "<table border=\"1\" class=\"dataframe\">\n",
              "  <thead>\n",
              "    <tr style=\"text-align: right;\">\n",
              "      <th></th>\n",
              "      <th>Tarih</th>\n",
              "      <th>AltinAlisFiyati</th>\n",
              "      <th>AltinSatisFiyati</th>\n",
              "    </tr>\n",
              "    <tr>\n",
              "      <th>Tarih</th>\n",
              "      <th></th>\n",
              "      <th></th>\n",
              "      <th></th>\n",
              "    </tr>\n",
              "  </thead>\n",
              "  <tbody>\n",
              "    <tr>\n",
              "      <th>2000-01-04</th>\n",
              "      <td>2000-01-04</td>\n",
              "      <td>4.849358</td>\n",
              "      <td>4.872745</td>\n",
              "    </tr>\n",
              "    <tr>\n",
              "      <th>2000-01-05</th>\n",
              "      <td>2000-01-05</td>\n",
              "      <td>4.825193</td>\n",
              "      <td>4.848465</td>\n",
              "    </tr>\n",
              "    <tr>\n",
              "      <th>2000-01-06</th>\n",
              "      <td>2000-01-06</td>\n",
              "      <td>4.807271</td>\n",
              "      <td>4.830456</td>\n",
              "    </tr>\n",
              "    <tr>\n",
              "      <th>2000-01-07</th>\n",
              "      <td>2000-01-07</td>\n",
              "      <td>4.853727</td>\n",
              "      <td>4.877136</td>\n",
              "    </tr>\n",
              "    <tr>\n",
              "      <th>2000-01-10</th>\n",
              "      <td>2000-01-10</td>\n",
              "      <td>4.845124</td>\n",
              "      <td>4.868491</td>\n",
              "    </tr>\n",
              "  </tbody>\n",
              "</table>\n",
              "</div>"
            ],
            "text/plain": [
              "                Tarih  AltinAlisFiyati  AltinSatisFiyati\n",
              "Tarih                                                   \n",
              "2000-01-04 2000-01-04         4.849358          4.872745\n",
              "2000-01-05 2000-01-05         4.825193          4.848465\n",
              "2000-01-06 2000-01-06         4.807271          4.830456\n",
              "2000-01-07 2000-01-07         4.853727          4.877136\n",
              "2000-01-10 2000-01-10         4.845124          4.868491"
            ]
          },
          "metadata": {
            "tags": []
          },
          "execution_count": 306
        }
      ]
    },
    {
      "cell_type": "code",
      "metadata": {
        "id": "Wd2WShyDu6YU",
        "colab_type": "code",
        "outputId": "0178dc74-2d97-44b9-9330-946217095c24",
        "colab": {
          "base_uri": "https://localhost:8080/",
          "height": 348
        }
      },
      "source": [
        "fig = plt.figure(figsize=(16,5))\n",
        "data.AltinAlisFiyati.plot(label='Altın Alış')\n",
        "plt.legend(loc='best')\n",
        "plt.title('Günlük Gram Altin Aliş Fiyatlari', fontsize=14)\n",
        "plt.show()\n"
      ],
      "execution_count": 307,
      "outputs": [
        {
          "output_type": "display_data",
          "data": {
            "image/png": "[encoded data removed]",
            "text/plain": [
              "<Figure size 1152x360 with 1 Axes>"
            ]
          },
          "metadata": {
            "tags": []
          }
        }
      ]
    },
    {
      "cell_type": "code",
      "metadata": {
        "id": "ZoSUbYMowZq8",
        "colab_type": "code",
        "colab": {}
      },
      "source": [
        "#Normalize\n",
        "values = data['AltinAlisFiyati'].values.reshape(-1,1)\n",
        "values = values.astype('float32')\n",
        "scaler = MinMaxScaler(feature_range=(0, 1))\n",
        "dataset = scaler.fit_transform(values)\n",
        "# Birkaç Değere Bakalım\n"
      ],
      "execution_count": 0,
      "outputs": []
    },
    {
      "cell_type": "code",
      "metadata": {
        "id": "aWQFkCdkwm4j",
        "colab_type": "code",
        "outputId": "47201473-8720-448f-c247-1e78d70685d1",
        "colab": {
          "base_uri": "https://localhost:8080/",
          "height": 35
        }
      },
      "source": [
        "TRAIN_SIZE = 0.70\n",
        "train_size = int(len(dataset) * TRAIN_SIZE)\n",
        "test_size = len(dataset) - train_size\n",
        "train, test = dataset[0:train_size, :], dataset[train_size:len(dataset), :]\n",
        "print(\"Gün Sayıları (training set, test set): \" + str((len(train), len(test))))"
      ],
      "execution_count": 309,
      "outputs": [
        {
          "output_type": "stream",
          "text": [
            "Gün Sayıları (training set, test set): (3523, 1510)\n"
          ],
          "name": "stdout"
        }
      ]
    },
    {
      "cell_type": "code",
      "metadata": {
        "id": "Zj1cArzRw7cw",
        "colab_type": "code",
        "colab": {}
      },
      "source": [
        "def create_dataset(dataset, window_size = 1):\n",
        "    data_X, data_Y = [], []\n",
        "    for i in range(len(dataset) - window_size - 1):\n",
        "        a = dataset[i:(i + window_size), 0]\n",
        "        data_X.append(a)\n",
        "        data_Y.append(dataset[i + window_size, 0])\n",
        "    return(np.array(data_X), np.array(data_Y))"
      ],
      "execution_count": 0,
      "outputs": []
    },
    {
      "cell_type": "code",
      "metadata": {
        "id": "0rIsynlkG4XP",
        "colab_type": "code",
        "colab": {}
      },
      "source": [
        "use_multiple_layer = False\n",
        "lossError=\"mae\"#rmsprop,mae,mean_squared_error\n",
        "epochCount = 20\n",
        "window_size = 1\n",
        "numberOfHiddenLayer = 64\n",
        "batchSize = 128\n",
        "addDropoutLayer = True"
      ],
      "execution_count": 0,
      "outputs": []
    },
    {
      "cell_type": "code",
      "metadata": {
        "id": "OObQwRwkw_z6",
        "colab_type": "code",
        "outputId": "e939cf16-64e6-47e9-9ef6-352c3661e429",
        "colab": {
          "base_uri": "https://localhost:8080/",
          "height": 88
        }
      },
      "source": [
        "# Verisetlerimizi Oluşturalım\n",
        "\n",
        "train_X, train_Y = create_dataset(train, window_size)\n",
        "test_X, test_Y = create_dataset(test, window_size)\n",
        "print(\"Original training data shape:\")\n",
        "print(train_X.shape)\n",
        "# Yeni verisetinin şekline bakalım.\n",
        "#train_X = np.reshape(train_X, (train_X.shape[0], 1, train_X.shape[1]))\n",
        "#test_X = np.reshape(test_X, (test_X.shape[0], 1, test_X.shape[1]))\n",
        "\n",
        "# reshape input to be [samples, time steps, features]\n",
        "train_X = np.reshape(train_X, (train_X.shape[0], train_X.shape[1], 1))\n",
        "test_X = np.reshape(test_X, (test_X.shape[0], test_X.shape[1], 1))\n",
        "print(\"New training data shape:\")\n",
        "print(train_X.shape)\n"
      ],
      "execution_count": 312,
      "outputs": [
        {
          "output_type": "stream",
          "text": [
            "Original training data shape:\n",
            "(3521, 1)\n",
            "New training data shape:\n",
            "(3521, 1, 1)\n"
          ],
          "name": "stdout"
        }
      ]
    },
    {
      "cell_type": "code",
      "metadata": {
        "id": "WQOs3ofvxGpg",
        "colab_type": "code",
        "colab": {}
      },
      "source": [
        "def fit_model(train_X, train_Y, window_size = 1):\n",
        "    model = Sequential()\n",
        "    # Modelin tek layerlı şekilde kurulacak.\n",
        "    model.add(LSTM(numberOfHiddenLayer, input_shape = (window_size, 1), return_sequences=use_multiple_layer))\n",
        "    #model ezberlemsin diye\n",
        "    if(use_multiple_layer):\n",
        "      model.add(Dropout(0.2))\n",
        "      model.add(LSTM(int(numberOfHiddenLayer/2), return_sequences=False))\n",
        "      #model.add(LSTM(32, return_sequences=False))\n",
        "    if(addDropoutLayer):\n",
        "     model.add(Dropout(0.2))\n",
        "    model.add(Dense(1))\n",
        "    model.compile(loss = lossError, optimizer = \"adam\")\n",
        "   #30 epoch yani 30 kere verisetine bakılacak.\n",
        "    print(\"LSTM\")\n",
        "    model.summary()\n",
        "    model.fit(train_X, train_Y, epochs = epochCount, batch_size = batchSize, verbose = 1, shuffle=False)\n",
        "    \n",
        "    return(model)"
      ],
      "execution_count": 0,
      "outputs": []
    },
    {
      "cell_type": "code",
      "metadata": {
        "id": "HD1rHpb487xS",
        "colab_type": "code",
        "colab": {}
      },
      "source": [
        "def fit_model_gru(train_X, train_Y, window_size = 1):\n",
        "    model = Sequential()\n",
        "    # Modelin tek layerlı şekilde kurulacak.\n",
        "    model.add(GRU(numberOfHiddenLayer, input_shape = (window_size, 1), return_sequences=use_multiple_layer))\n",
        "    #model ezberlemesin diye\n",
        "    if(use_multiple_layer):\n",
        "      model.add(Dropout(0.2))\n",
        "      model.add(GRU(int(numberOfHiddenLayer/2), return_sequences=False))\n",
        "    if(addDropoutLayer):\n",
        "     model.add(Dropout(0.2))\n",
        "    model.add(Dense(1))\n",
        "    model.compile(loss = lossError, optimizer = \"adam\")#rmsprop,mae,mean_squared_error\n",
        "   #30 epoch yani 30 kere verisetine bakılacak.\n",
        "    print(\"GRU\")\n",
        "    model.summary()\n",
        "    model.fit(train_X, train_Y, epochs = epochCount, batch_size = batchSize, verbose = 1, shuffle=False)\n",
        "    \n",
        "    return(model)"
      ],
      "execution_count": 0,
      "outputs": []
    },
    {
      "cell_type": "code",
      "metadata": {
        "id": "vMJkwEhP4KOp",
        "colab_type": "code",
        "colab": {}
      },
      "source": [
        "def fit_model_lstm2(train_X, train_Y, window_size = 1):\n",
        "    model = Sequential()\n",
        "    model.add(LSTM(4, input_shape=(1, 1)))\n",
        "    if(addDropoutLayer):\n",
        "     model.add(Dropout(0.2))\n",
        "    model.add(Dense(1))\n",
        "    model.compile(loss=lossError, optimizer='adam')\n",
        "    print(\"LSTM2\")\n",
        "    model.summary()\n",
        "    model.fit(train_X, train_Y, epochs=epochCount, batch_size=batchSize, verbose=1)\n",
        "    \n",
        "    return(model)"
      ],
      "execution_count": 0,
      "outputs": []
    },
    {
      "cell_type": "code",
      "metadata": {
        "id": "yAnkTmq-xPYB",
        "colab_type": "code",
        "colab": {}
      },
      "source": [
        "def predict_and_score(model, X, Y):\n",
        "    # Şimdi tahminleri 0-1 ile scale edilmiş halinden geri çeviriyoruz.\n",
        "    pred = scaler.inverse_transform(model.predict(X))\n",
        "    orig_data = scaler.inverse_transform([Y])\n",
        "    # Rmse değerlerini ölçüyoruz.\n",
        "    score = math.sqrt(mean_squared_error(orig_data[0], pred[:, 0]))\n",
        "    return(score, pred)"
      ],
      "execution_count": 0,
      "outputs": []
    },
    {
      "cell_type": "code",
      "metadata": {
        "id": "C4u5xeZU83dU",
        "colab_type": "code",
        "colab": {
          "base_uri": "https://localhost:8080/",
          "height": 995
        },
        "outputId": "34eec7e2-4b78-403c-939c-b26245522965"
      },
      "source": [
        "model1 = fit_model(train_X, train_Y, window_size)\n",
        "rmse_train, train_predict = predict_and_score(model1, train_X, train_Y)\n",
        "rmse_test, test_predict = predict_and_score(model1, test_X, test_Y)"
      ],
      "execution_count": 317,
      "outputs": [
        {
          "output_type": "stream",
          "text": [
            "LSTM\n",
            "Model: \"sequential_47\"\n",
            "_________________________________________________________________\n",
            "Layer (type)                 Output Shape              Param #   \n",
            "=================================================================\n",
            "lstm_33 (LSTM)               (None, 64)                16896     \n",
            "_________________________________________________________________\n",
            "dropout_36 (Dropout)         (None, 64)                0         \n",
            "_________________________________________________________________\n",
            "dense_46 (Dense)             (None, 1)                 65        \n",
            "=================================================================\n",
            "Total params: 16,961\n",
            "Trainable params: 16,961\n",
            "Non-trainable params: 0\n",
            "_________________________________________________________________\n",
            "Epoch 1/20\n",
            "3521/3521 [==============================] - 9s 3ms/step - loss: 0.0684\n",
            "Epoch 2/20\n",
            "3521/3521 [==============================] - 0s 34us/step - loss: 0.0838\n",
            "Epoch 3/20\n",
            "3521/3521 [==============================] - 0s 34us/step - loss: 0.0773\n",
            "Epoch 4/20\n",
            "3521/3521 [==============================] - 0s 37us/step - loss: 0.0692\n",
            "Epoch 5/20\n",
            "3521/3521 [==============================] - 0s 37us/step - loss: 0.0641\n",
            "Epoch 6/20\n",
            "3521/3521 [==============================] - 0s 35us/step - loss: 0.0601\n",
            "Epoch 7/20\n",
            "3521/3521 [==============================] - 0s 38us/step - loss: 0.0549\n",
            "Epoch 8/20\n",
            "3521/3521 [==============================] - 0s 40us/step - loss: 0.0488\n",
            "Epoch 9/20\n",
            "3521/3521 [==============================] - 0s 41us/step - loss: 0.0430\n",
            "Epoch 10/20\n",
            "3521/3521 [==============================] - 0s 38us/step - loss: 0.0360\n",
            "Epoch 11/20\n",
            "3521/3521 [==============================] - 0s 39us/step - loss: 0.0279\n",
            "Epoch 12/20\n",
            "3521/3521 [==============================] - 0s 34us/step - loss: 0.0203\n",
            "Epoch 13/20\n",
            "3521/3521 [==============================] - 0s 37us/step - loss: 0.0108\n",
            "Epoch 14/20\n",
            "3521/3521 [==============================] - 0s 37us/step - loss: 0.0081\n",
            "Epoch 15/20\n",
            "3521/3521 [==============================] - 0s 42us/step - loss: 0.0078\n",
            "Epoch 16/20\n",
            "3521/3521 [==============================] - 0s 38us/step - loss: 0.0077\n",
            "Epoch 17/20\n",
            "3521/3521 [==============================] - 0s 40us/step - loss: 0.0076\n",
            "Epoch 18/20\n",
            "3521/3521 [==============================] - 0s 39us/step - loss: 0.0074\n",
            "Epoch 19/20\n",
            "3521/3521 [==============================] - 0s 37us/step - loss: 0.0071\n",
            "Epoch 20/20\n",
            "3521/3521 [==============================] - 0s 35us/step - loss: 0.0072\n"
          ],
          "name": "stdout"
        }
      ]
    },
    {
      "cell_type": "code",
      "metadata": {
        "id": "p5RS8Pdg8lIc",
        "colab_type": "code",
        "colab": {
          "base_uri": "https://localhost:8080/",
          "height": 995
        },
        "outputId": "a95433db-ff52-46d7-bd7c-5c5cd322a8d6"
      },
      "source": [
        "model_gru = fit_model_gru(train_X, train_Y, window_size)\n",
        "rmse_train_gru, train_predict_gru = predict_and_score(model_gru, train_X, train_Y)\n",
        "rmse_test_gru, test_predict_gru = predict_and_score(model_gru, test_X, test_Y)"
      ],
      "execution_count": 318,
      "outputs": [
        {
          "output_type": "stream",
          "text": [
            "GRU\n",
            "Model: \"sequential_48\"\n",
            "_________________________________________________________________\n",
            "Layer (type)                 Output Shape              Param #   \n",
            "=================================================================\n",
            "gru_21 (GRU)                 (None, 64)                12672     \n",
            "_________________________________________________________________\n",
            "dropout_37 (Dropout)         (None, 64)                0         \n",
            "_________________________________________________________________\n",
            "dense_47 (Dense)             (None, 1)                 65        \n",
            "=================================================================\n",
            "Total params: 12,737\n",
            "Trainable params: 12,737\n",
            "Non-trainable params: 0\n",
            "_________________________________________________________________\n",
            "Epoch 1/20\n",
            "3521/3521 [==============================] - 9s 3ms/step - loss: 0.0581\n",
            "Epoch 2/20\n",
            "3521/3521 [==============================] - 0s 29us/step - loss: 0.1012\n",
            "Epoch 3/20\n",
            "3521/3521 [==============================] - 0s 31us/step - loss: 0.0821\n",
            "Epoch 4/20\n",
            "3521/3521 [==============================] - 0s 33us/step - loss: 0.0643\n",
            "Epoch 5/20\n",
            "3521/3521 [==============================] - 0s 38us/step - loss: 0.0562\n",
            "Epoch 6/20\n",
            "3521/3521 [==============================] - 0s 36us/step - loss: 0.0479\n",
            "Epoch 7/20\n",
            "3521/3521 [==============================] - 0s 35us/step - loss: 0.0398\n",
            "Epoch 8/20\n",
            "3521/3521 [==============================] - 0s 35us/step - loss: 0.0287\n",
            "Epoch 9/20\n",
            "3521/3521 [==============================] - 0s 34us/step - loss: 0.0216\n",
            "Epoch 10/20\n",
            "3521/3521 [==============================] - 0s 31us/step - loss: 0.0112\n",
            "Epoch 11/20\n",
            "3521/3521 [==============================] - 0s 30us/step - loss: 0.0086\n",
            "Epoch 12/20\n",
            "3521/3521 [==============================] - 0s 34us/step - loss: 0.0090\n",
            "Epoch 13/20\n",
            "3521/3521 [==============================] - 0s 30us/step - loss: 0.0081\n",
            "Epoch 14/20\n",
            "3521/3521 [==============================] - 0s 35us/step - loss: 0.0082\n",
            "Epoch 15/20\n",
            "3521/3521 [==============================] - 0s 35us/step - loss: 0.0081\n",
            "Epoch 16/20\n",
            "3521/3521 [==============================] - 0s 34us/step - loss: 0.0075\n",
            "Epoch 17/20\n",
            "3521/3521 [==============================] - 0s 30us/step - loss: 0.0076\n",
            "Epoch 18/20\n",
            "3521/3521 [==============================] - 0s 30us/step - loss: 0.0075\n",
            "Epoch 19/20\n",
            "3521/3521 [==============================] - 0s 30us/step - loss: 0.0073\n",
            "Epoch 20/20\n",
            "3521/3521 [==============================] - 0s 31us/step - loss: 0.0069\n"
          ],
          "name": "stdout"
        }
      ]
    },
    {
      "cell_type": "code",
      "metadata": {
        "id": "kaKCugo58lb9",
        "colab_type": "code",
        "colab": {}
      },
      "source": [
        "#model_lstm2 = fit_model_lstm2(train_X, train_Y, window_size)\n",
        "#rmse_train_lstm2, train_predict_lstm2 = predict_and_score(model_lstm2, train_X, train_Y)\n",
        "#rmse_test_lstm2, test_predict_lstm2 = predict_and_score(model_lstm2, test_X, test_Y)"
      ],
      "execution_count": 0,
      "outputs": []
    },
    {
      "cell_type": "code",
      "metadata": {
        "id": "Aic-tB4d8ybo",
        "colab_type": "code",
        "colab": {
          "base_uri": "https://localhost:8080/",
          "height": 124
        },
        "outputId": "21333dc8-2cae-4fec-9a8a-9e4e763ccbe7"
      },
      "source": [
        "print(\"Training data score: %.2f RMSE(LSTM)\" % rmse_train)\n",
        "print(\"Test data score: %.2f RMSE(LSTM)\" % rmse_test)\n",
        "\n",
        "print(\"Train data score: %.2f RMSE(GRU)\" % rmse_train_gru)\n",
        "print(\"Test data score: %.2f RMSE(GRU)\" % rmse_test_gru)\n",
        "\n",
        "print(\"Train data score: %.2f RMSE(LSTM2)\" % rmse_train_lstm2)\n",
        "print(\"Test data score: %.2f RMSE(LSTM2)\" % rmse_test_lstm2)"
      ],
      "execution_count": 320,
      "outputs": [
        {
          "output_type": "stream",
          "text": [
            "Training data score: 0.89 RMSE(LSTM)\n",
            "Test data score: 7.43 RMSE(LSTM)\n",
            "Train data score: 0.97 RMSE(GRU)\n",
            "Test data score: 2.39 RMSE(GRU)\n",
            "Train data score: 0.75 RMSE(LSTM2)\n",
            "Test data score: 13.99 RMSE(LSTM2)\n"
          ],
          "name": "stdout"
        }
      ]
    },
    {
      "cell_type": "code",
      "metadata": {
        "id": "kJ5MVaHXxTg4",
        "colab_type": "code",
        "outputId": "6f8503f4-a8c0-4bb1-bbd8-b0e42026bce3",
        "colab": {
          "base_uri": "https://localhost:8080/",
          "height": 653
        }
      },
      "source": [
        "# Öğrendiklerinini tahminletip ekliyoruz.\n",
        "train_predict_plot = np.empty_like(dataset)\n",
        "train_predict_plot[:, :] = np.nan\n",
        "train_predict_plot[window_size:len(train_predict) + window_size, :] = train_predict\n",
        "# Şimdi ise testleri tahminletiyoruz.\n",
        "test_predict_plot = np.empty_like(dataset)\n",
        "test_predict_plot[:, :] = np.nan\n",
        "test_predict_plot[len(train_predict) + (window_size * 2) + 1:len(dataset) - 1, :] = test_predict\n",
        "\n",
        "# Öğrendiklerinini tahminletip ekliyoruz.Gru\n",
        "train_predict_plot_gru = np.empty_like(dataset)\n",
        "train_predict_plot_gru[:, :] = np.nan\n",
        "train_predict_plot_gru[window_size:len(train_predict_gru) + window_size, :] = train_predict_gru\n",
        "# Şimdi ise testleri tahminletiyoruz.Gru\n",
        "test_predict_plot_gru = np.empty_like(dataset)\n",
        "test_predict_plot_gru[:, :] = np.nan\n",
        "test_predict_plot_gru[len(train_predict_gru) + (window_size * 2) + 1:len(dataset) - 1, :] = test_predict_gru\n",
        "\n",
        "# Öğrendiklerinini tahminletip ekliyoruz.Lstm2\n",
        "train_predict_plot_lstm2 = np.empty_like(dataset)\n",
        "train_predict_plot_lstm2[:, :] = np.nan\n",
        "train_predict_plot_lstm2[window_size:len(train_predict_lstm2) + window_size, :] = train_predict_lstm2\n",
        "# Şimdi ise testleri tahminletiyoruz.Lstm2\n",
        "test_predict_plot_lstm2 = np.empty_like(dataset)\n",
        "test_predict_plot_lstm2[:, :] = np.nan\n",
        "test_predict_plot_lstm2[len(train_predict_lstm2) + (window_size * 2) + 1:len(dataset) - 1, :] = test_predict_lstm2\n",
        "\n",
        "\n",
        "# Plot'u oluşturalım.\n",
        "plt.figure(figsize = (15, 10))\n",
        "plt.plot(scaler.inverse_transform(dataset), label = \"Gerçek Fiyat\")\n",
        "plt.plot(train_predict_plot, label = \"Eğitim Seti Tahmini(LSTM)\")\n",
        "plt.plot(test_predict_plot, label = \"Test Seti Tahmini(LSTM)\")\n",
        "plt.plot(train_predict_plot_gru, label = \"Eğitim Seti Tahmini(GRU)\")\n",
        "plt.plot(test_predict_plot_gru, label = \"Test Seti Tahmini(GRU)\")\n",
        "#plt.plot(train_predict_plot_lstm2, label = \"Eğitim Seti Tahmini(LSTM2)\")\n",
        "#plt.plot(test_predict_plot_lstm2, label = \"Test Seti Tahmini(LSTM2)\")\n",
        "\n",
        "\n",
        "#plt.xlabel(\"Aylar\")\n",
        "plt.ylabel(\"Altın Fiyatları\")\n",
        "plt.title(\"Sonuç\")\n",
        "plt.legend()\n",
        "plt.show()\n",
        "\n",
        "#data2 = data2.reshape((1, 2, 1, 2, 1))\n",
        "#yhat = model1.predict(data2, verbose=0)\n",
        "#print(yhat)"
      ],
      "execution_count": 321,
      "outputs": [
        {
          "output_type": "display_data",
          "data": {
            "image/png": "[encoded data removed]",
            "text/plain": [
              "<Figure size 1080x720 with 1 Axes>"
            ]
          },
          "metadata": {
            "tags": []
          }
        }
      ]
    }
  ]
}